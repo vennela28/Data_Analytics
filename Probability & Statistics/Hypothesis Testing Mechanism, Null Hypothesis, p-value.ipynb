{
 "cells": [
  {
   "cell_type": "markdown",
   "metadata": {},
   "source": [
    "Let us take classes : Cl1, Cl2. I have measured the heights of 50 students from Cl1 and Cl2.\n",
    "\n",
    "Is there a difference in heights of students in Cl1 and Cl2?\n",
    "\n",
    "Plot a histogram of heights of the students in both classes Cl1 & Cl2.\n",
    "\n",
    "<b>μ2 > μ1</b> - If the mean of heights of students in Cl2 is greater than Cl1. - how to quantify this and see if there is a difference between the heights of students in Cl1 & Cl2?\n",
    "\n",
    "<b> Steps in Hypothesis testing</b>\n",
    "1. Choosing a test-statistic  <b>μ2 - μ1</b> where μ2 is the mean of heights of students in Cl2 and μ1 is the mean of heights of students in Cl1.\n",
    "   - <b><i>(μ2 - μ1) = 0</i></b>, there is no difference between the heights of students of Cl1 and Cl2.\n",
    "\n",
    "2. define Null Hypothesis(Hₒ): This method follows Proof by Contradiction. \n",
    "   - In Hₒ you are assuming that there is no difference in μ1 and μ2. \n",
    "   - Alternative Hypothesis(H1): opposite of Null Hypothesis. There is a difference in the heights of students of Cl1 and Cl2.\n",
    "\n",
    "3. compute p-value: What is the probability of observing test statistic (μ2 - μ1) = 10cm assuming null hypothesis(Hₒ) is true? \n",
    "    - accept Null Hypothesis(Hₒ) ---> If p-value = 0.9, the probability of (μ2 - μ1) = 10cm is 0.9 if Hₒ is true.\n",
    "    - reject Null Hypothesis(Hₒ) and accept Alternative Hypothesis (H1) ---> If p-value = 0.05, the probability of (μ2 - μ1) = 10cm is 0.05 if Hₒ is true.\n"
   ]
  }
 ],
 "metadata": {
  "kernelspec": {
   "display_name": "Python 3",
   "language": "python",
   "name": "python3"
  },
  "language_info": {
   "codemirror_mode": {
    "name": "ipython",
    "version": 3
   },
   "file_extension": ".py",
   "mimetype": "text/x-python",
   "name": "python",
   "nbconvert_exporter": "python",
   "pygments_lexer": "ipython3",
   "version": "3.6.4"
  }
 },
 "nbformat": 4,
 "nbformat_minor": 2
}
