{
 "cells": [
  {
   "cell_type": "markdown",
   "metadata": {},
   "source": [
    "Let us have a random variable X from unknown distribution which represents the heights of people.\n",
    "\n",
    "X = {x1, x2, ..., x10} - random sample from random variable of size 10\n",
    "\n",
    "Agenda: To estimate the population mean of X = µ\n",
    "\n",
    "<b> µ (population mean) ≈ x̄ (sample mean) = [ 1/n ∑xᵢ (i = 1 to n) ] - simple average</b>\n",
    "\n",
    "As n increases, x̄ will be closer to µ.\n",
    "\n",
    "If the estimate of µ = x̄, it is known as a <b>point estimate</b>.\n",
    "\n",
    "Let X = {180, 162, 158, 172, 168, 150, 171, 183, 165, 176 } - heights of people on cms.\n",
    "\n",
    "\n",
    "Point Estimate of µ =  1/10 ∑xᵢ (i = 1 to 10) = 168.5\n",
    "\n",
    "\n",
    "(poulation mean) µ ∈ [162.1, 174.9] with 95% probability - Confdence Interval.\n",
    "\n",
    "<b>Conlusion</b>\n",
    "\n",
    "This representation is much more richer in terms of information than simple Point Estimate."
   ]
  }
 ],
 "metadata": {
  "kernelspec": {
   "display_name": "Python 3",
   "language": "python",
   "name": "python3"
  },
  "language_info": {
   "codemirror_mode": {
    "name": "ipython",
    "version": 3
   },
   "file_extension": ".py",
   "mimetype": "text/x-python",
   "name": "python",
   "nbconvert_exporter": "python",
   "pygments_lexer": "ipython3",
   "version": "3.6.4"
  }
 },
 "nbformat": 4,
 "nbformat_minor": 2
}
