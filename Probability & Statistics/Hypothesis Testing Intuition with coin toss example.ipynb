{
 "cells": [
  {
   "cell_type": "markdown",
   "metadata": {},
   "source": [
    "<h3> Hypothesis Testing </h3>"
   ]
  },
  {
   "cell_type": "markdown",
   "metadata": {},
   "source": [
    "<b><i>Example 1</i></b>\n",
    "\n",
    "Given a coin, determine if the coin is biased towards Heads or not?\n",
    "\n",
    "Coin biased towards Heads: P(H) > 0.5\n",
    "\n",
    "Coin not biased towards Heads: P(H) = 0.5\n",
    "\n",
    "<u><i>Design of the experiment</i></u> - Experiment 1 : <b>Test statistic</b> Flip a coin 5 times and count the number of Heads = X (random variable).  \n",
    "\n",
    "<u><i>Perform the experiment</i></u>: f, f, f, f, f - all the flips got Heads. \n",
    "\n",
    "<u><i>Observation</i></u>: X = 5\n",
    "\n",
    "<i>P(X=5 | coin is not biased towards Heads) = P(observation | given by Hₒ)</i>\n",
    "\n",
    "coin is not biased towards Heads - assumption, Null Hypothesis(Hₒ)\n",
    "\n",
    "X = 5 - observation\n",
    "\n",
    "P(X=5|Hₒ) - What is the probability of getting 5 Heads in 5 coin tosses when the coin is not biased towards Heads?\n",
    "\n",
    "Coin is not biased P(H) = 0.5 or ½\n",
    "\n",
    "The probability of getting Head in each coin flip is f1 = ½, f2 = ½, f3 = ½, f4 = ½, f5 = ½\n",
    "\n",
    "So, the probability of getting 5 Heads in 5 tosses assumming the coin is not biased is ½*½*½*½*½ = ½⁵ = 1/32 ≈ 0.03  = 3%\n",
    "\n",
    "There are 32 possibilities out of which we have only 1 possibility of getting all Heads i.e. H, H, H, H, H\n",
    "\n",
    "<b>P(X=5|Hₒ) = 3% </b>: There is 3% chance of getting 5 Heads in 5 flips if the coin is not biased towards Heads.\n",
    "\n",
    "<h4><u>Hypothesis Testing</u></h4> Probability of observing by experimentation given the assumption is true is 3%. (quiet small) p-value: It is the probability of making an observation we already made given the assumption(Hₒ) - (small is less than 5%). \n",
    "\n",
    "If P(X=5|Hₒ) < 5%, then Hₒ(null hypothesis) may be incorrect.\n",
    "\n",
    "<i>We will conclude that Hₒ(null hypothesis) is not true or we reject Hₒ(null hypothesis) i.e. reject that the coin is not biased towards Heads i.e. accept H1(alternate hypothesis) - accept that the coin is biased(H1).</i>\n",
    "\n",
    "For every Hₒ(null hypothesis), there is an H1(alternate hypothesis).\n",
    "\n",
    "Hₒ(null hypothesis): coin is not biased towards Heads\n",
    "\n",
    "H1(alternate hypothesis): coin is biased towards Heads\n",
    "\n",
    "rejecting Hₒ is accepting H1\n",
    "\n",
    "rejecting H1 is accepting Hₒ\n",
    "\n",
    "The idea is we have already made the observation, observation is not incorrect. Probably, the assumption is incorrect since the probability in the coin toss is only 3%. \n",
    "\n",
    "When we designed the experiment, we took X = 5, i.e. flipped the coin only 5 times. If X = 10 times or 3 times, the values will change.\n",
    "\n",
    "This experiment is dependent upon the total number of flips which is known as <b>sample size</b>."
   ]
  },
  {
   "cell_type": "markdown",
   "metadata": {},
   "source": [
    "<h4><i> Example 2</i></h4>"
   ]
  },
  {
   "cell_type": "markdown",
   "metadata": {},
   "source": [
    "<u><i>Design</i></u> - Lets assume, experiment 1 : flip the coin 3 times and count the number of Heads = X (test statistic) \n",
    "\n",
    "<u><i>Perform the experiment</i></u>: f, f, f - all the flips got Heads.\n",
    "\n",
    "<u><i>Observation</i></u>: X = 3\n",
    "\n",
    "<i>P(X=3 | coin is not biased towards Heads) = P(observation | given by Hₒ)</i>\n",
    "\n",
    "Coin is not biased P(H) = 0.5 or ½\n",
    "\n",
    "The probability of getting Head in each coin flip is f1 = ½, f2 = ½, f3 = ½\n",
    "\n",
    "So, the probability of getting 3 Heads in 3 tosses assumming the coin is not biased is ½*½*½ = ½³ = 1/8 = 12.5% > 5% i.e. there is 12.5% chance of making the observation if my assumption is true. \n",
    "\n",
    "In this case, I will accept Hₒ, the probability of seeing 3 Heads is 12.5% if my assumption(coin is not biased towards Heads) is true. "
   ]
  },
  {
   "cell_type": "markdown",
   "metadata": {},
   "source": [
    "<h4>Conclusion</h4>\n",
    "\n",
    "- We need to be very careful about the sample sizes. \n",
    "\n",
    "<b> 3 important aspects of Hypothesis testing </b>\n",
    "- Design of the experiment (decide the sample size i.e. X = 3 / 5 / 10)\n",
    "- Define null hypothesis(Hₒ) so that computing probability computation P(observation|Hₒ) is easy and feasible.\n",
    "- Design of the test statistic(X)\n",
    "\n",
    "If p-value = 3%, reject null hypothesis(Hₒ). Here p-value is the probability of observation we make, given the null hypothesis(Hₒ) is true. So, p-value = P(observation|Hₒ)"
   ]
  }
 ],
 "metadata": {
  "kernelspec": {
   "display_name": "Python 3",
   "language": "python",
   "name": "python3"
  },
  "language_info": {
   "codemirror_mode": {
    "name": "ipython",
    "version": 3
   },
   "file_extension": ".py",
   "mimetype": "text/x-python",
   "name": "python",
   "nbconvert_exporter": "python",
   "pygments_lexer": "ipython3",
   "version": "3.6.4"
  }
 },
 "nbformat": 4,
 "nbformat_minor": 2
}
