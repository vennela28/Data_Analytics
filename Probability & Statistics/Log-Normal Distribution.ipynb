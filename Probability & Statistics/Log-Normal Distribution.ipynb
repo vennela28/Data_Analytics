{
 "cells": [
  {
   "cell_type": "markdown",
   "metadata": {},
   "source": [
    "A <b>log-normal distribution</b> is a continuous probability distribution of a random variable whose logarithm is normally distributed."
   ]
  },
  {
   "cell_type": "markdown",
   "metadata": {},
   "source": [
    "X ~ log-normal(meu, sigma), If ln(X) has a normally distribution\n",
    "\n",
    "As the standard deviation increases, the PDF gets +skewed (heavy tailed distributions)\n",
    "\n",
    "The PDF is like a Gaussian Distribution."
   ]
  },
  {
   "cell_type": "markdown",
   "metadata": {},
   "source": [
    "<b><i> Some examples of human behavior </i></b> - On Internet we observe a lot of log-normal distribution.\n",
    "\n",
    "In many Internet companies like Amazon, Google, Yahoo etc, we see a lot of log-normal and Pareto distributions.\n",
    "\n",
    "Seldom, we find Gaussian normal distributions."
   ]
  },
  {
   "cell_type": "markdown",
   "metadata": {},
   "source": [
    "- The length of comments posted in Internet discussion forums follow a log-normal distribution.\n",
    "- The users' dwell time on online articles follow a log-normal distribution.\n",
    "\n",
    "In economics, the income of 97% - 99% of the population is distributed log-normally. The distribution of higher-income individuals follows a Pareto distribution."
   ]
  },
  {
   "cell_type": "markdown",
   "metadata": {},
   "source": [
    "<h5> X ~ log-normal(meu, sigma) distributed. Given values $x_{1}$, $x_{2}$ ... $x_{n}$. How to determine X is log-normal distributed or not?</h5> "
   ]
  },
  {
   "cell_type": "markdown",
   "metadata": {},
   "source": [
    "- Take the ln of $x_{1}$, $x_{2}$, ... $x_{n}$ as $y_{1}$, $y_{2}$, ... $y_{n}$\n",
    "\n",
    "- Employ Q-Q plot to determine if the above values $y_{i}$'s are Gaussian. \n",
    "\n",
    "- If $y_{i}$'s are Gaussian, then X is log-normal."
   ]
  }
 ],
 "metadata": {
  "kernelspec": {
   "display_name": "Python 3",
   "language": "python",
   "name": "python3"
  },
  "language_info": {
   "codemirror_mode": {
    "name": "ipython",
    "version": 3
   },
   "file_extension": ".py",
   "mimetype": "text/x-python",
   "name": "python",
   "nbconvert_exporter": "python",
   "pygments_lexer": "ipython3",
   "version": "3.6.4"
  }
 },
 "nbformat": 4,
 "nbformat_minor": 2
}
