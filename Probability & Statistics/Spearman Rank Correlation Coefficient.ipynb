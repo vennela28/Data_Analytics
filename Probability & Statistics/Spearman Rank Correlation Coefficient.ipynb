{
 "cells": [
  {
   "cell_type": "markdown",
   "metadata": {},
   "source": [
    "Pearson Correlation Coefficient does a better job when we x and y have a linear relationship.\n",
    "\n",
    "Spearman Rank Correlation Coefficient helps in monotonically non-decreasing relationship. It is only concerned with the rank and bothered about linearity of the relationship.\n",
    "\n",
    "Let us have x = heights(cms) and y = weights(kgs) of students. Spearman Rank Correlation Coefficient says, instead of using x & y, we can create new random variables ranks rₓ and rᵧ.\n",
    "\n",
    "rₓ - take all the x values and sort them. The smallest value gets a rank of 1. \n",
    "\n",
    "Spearman Rank Correlation Coefficient,<b> r = ρᵣₓ,ᵣᵧ </b>\n",
    "\n",
    "r is PCC of rₓ and rᵧ. Ranks are strictly increasing. If you have a function strictly / monotonically increasing function i.e. <b> x increases and y increases; the relationship may be linear or non-linear - Spearman Rank Correlation Coefficient, r = 1 </b>.\n",
    "\n",
    "<b> If x increases and y decreases; the relationship may be linear or non-linear - Spearman Rank Correlation Coefficient, r = -1.</b> \n",
    "\n",
    "If x increases and y increases and the relationship is linear, ρ = 1\n",
    "\n",
    "If x increases and y decreases and the relationship is linear, ρ = -1\n",
    "\n",
    "If there exist any outliers in the data set, Spearman Rank Correlation Coefficient handles the data elegantly. r = 0.84, ρ = 0.67 \n",
    "\n",
    "<b> Conclusion </b>\n",
    "\n",
    "Spearman Rank Correlation Coefficient is robust to the outliers than PCC because we are going in the terms of assigning ranks to the data points.\n"
   ]
  }
 ],
 "metadata": {
  "kernelspec": {
   "display_name": "Python 3",
   "language": "python",
   "name": "python3"
  },
  "language_info": {
   "codemirror_mode": {
    "name": "ipython",
    "version": 3
   },
   "file_extension": ".py",
   "mimetype": "text/x-python",
   "name": "python",
   "nbconvert_exporter": "python",
   "pygments_lexer": "ipython3",
   "version": "3.6.4"
  }
 },
 "nbformat": 4,
 "nbformat_minor": 2
}
