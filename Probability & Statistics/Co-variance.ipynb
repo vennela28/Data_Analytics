{
 "cells": [
  {
   "cell_type": "markdown",
   "metadata": {},
   "source": [
    "Let's assume X is the heights of all students in a class.\n",
    "\n",
    "Y is the weight of all students in a class. \n",
    "\n",
    "Is there a relationship between X and Y?\n",
    "\n",
    "If X increases / decreases, Y increases / decreases. Can we come to any conclusion about the relationship between X and Y?\n",
    "\n",
    "If 2 variables are related in anyway, how do we quantify such a relationship?\n",
    "- Co-variance\n",
    "- Pearson Correlation Coefficient\n",
    "- Spearman Rank Correlation Coefficient"
   ]
  },
  {
   "cell_type": "markdown",
   "metadata": {},
   "source": [
    "<h3><i> Co-variance</i></h3>"
   ]
  },
  {
   "cell_type": "markdown",
   "metadata": {},
   "source": [
    "cov(X,Y) = 1/n $\\sum\\limits_{i=1}^{n}$ ($x_{i}$ - $μ_{x}$)($y_{i}$ - $μ_{y}$); where ($x_{i}$ - $μ_{x}$) is the mean of x & ($y_{i}$ - $μ_{y}$) is the mean of y"
   ]
  },
  {
   "cell_type": "markdown",
   "metadata": {},
   "source": [
    "<h3><i> Variance </i></h3>"
   ]
  },
  {
   "cell_type": "markdown",
   "metadata": {},
   "source": [
    "var(X) = 1/n $\\sum\\limits_{i=1}^{n}$ ($x_{i}$ - $μ_{x}$)($x_{i}$ - $μ_{x}$)"
   ]
  },
  {
   "cell_type": "markdown",
   "metadata": {},
   "source": [
    "<h4><i> Hence, we can say that cov(X, X) = var(X) </i></h4>"
   ]
  },
  {
   "cell_type": "markdown",
   "metadata": {},
   "source": [
    "<h3><i> If the co-variance between 2 variables X & Y is positive, then X increases & Y increases.</i></h3>\n",
    "\n",
    "<b><i><u>Case 1</u></i></b>:If we take a point $x_{1}$ more than $μ_{x}$, then ($x_{1}$ - $μ_{x}$) is positive. \n",
    "\n",
    "If we take a point $y_{1}$ more than $μ_{y}$, then ($y_{1}$ - $μ_{y}$) is positive.\n",
    "\n",
    "Then cov(X,Y) = 1/n $\\sum\\limits_{i=1}^{n}$ ($x_{i}$ - $μ_{x}$)($y_{i}$ - $μ_{y}$) is positive.\n",
    "\n",
    "<b><i><u>Case 2</u></i></b>:If we take a point $x_{2}$ less than $μ_{x}$, then ($x_{2}$ - $μ_{x}$) is negative. \n",
    "\n",
    "If we take a point $y_{2}$ less than $μ_{y}$, then ($y_{2}$ - $μ_{y}$) is negative.\n",
    "\n",
    "Then cov(X,Y) = 1/n $\\sum\\limits_{i=1}^{n}$ ($x_{i}$ - $μ_{x}$)($y_{i}$ - $μ_{y}$) is positive."
   ]
  },
  {
   "cell_type": "markdown",
   "metadata": {},
   "source": [
    "<h3><i>If the co-variance between 2 variables X & Y is negative, then X increases & Y decreases.</h3></i>\n",
    "\n",
    "<b><i><u>Case 1</u></i></b>: If we take a point $x_{1}$ more than $μ_{x}$, then ($x_{1}$ - $μ_{x}$) is positive. \n",
    "\n",
    "If we take a point $y_{1}$ less than $μ_{y}$, then ($y_{1}$ - $μ_{y}$) is negative.\n",
    "\n",
    "Then cov(X,Y) = 1/n $\\sum\\limits_{i=1}^{n}$ ($x_{i}$ - $μ_{x}$)($y_{i}$ - $μ_{y}$) is negative.\n",
    "\n",
    "<b><i><u>Case 2</u></i></b>: If we take a point $x_{2}$ less than $μ_{x}$, then ($x_{2}$ - $μ_{x}$) is negative. \n",
    "\n",
    "If we take a point $y_{2}$ more than $μ_{y}$, then ($y_{2}$ - $μ_{y}$) is positive.\n",
    "\n",
    "Then cov(X,Y) = 1/n $\\sum\\limits_{i=1}^{n}$ ($x_{i}$ - $μ_{x}$)($y_{i}$ - $μ_{y}$) is negative."
   ]
  },
  {
   "cell_type": "markdown",
   "metadata": {},
   "source": [
    "<h3><i> Drawback of co-variance </i></h3>"
   ]
  },
  {
   "cell_type": "markdown",
   "metadata": {},
   "source": [
    "If we take cov(X, Y), where X is heights in metres and Y is weights in kgs.\n",
    "\n",
    "Now, we create 2 new random variables X' and Y' then cov(X', Y'), where X' is heights in feet and Y' is weights in lbs.\n",
    "\n",
    "<h4><i>For the same dataset where there are n observations, cov(X, Y) ≠ cov(X', Y')</i></h4>\n",
    "\n",
    "<b><i>Biggest drawback of co-variance</i></b> - Just changing the way of measuring the same datapoints, covariances may not match. "
   ]
  }
 ],
 "metadata": {
  "kernelspec": {
   "display_name": "Python 3",
   "language": "python",
   "name": "python3"
  },
  "language_info": {
   "codemirror_mode": {
    "name": "ipython",
    "version": 3
   },
   "file_extension": ".py",
   "mimetype": "text/x-python",
   "name": "python",
   "nbconvert_exporter": "python",
   "pygments_lexer": "ipython3",
   "version": "3.6.4"
  }
 },
 "nbformat": 4,
 "nbformat_minor": 2
}
