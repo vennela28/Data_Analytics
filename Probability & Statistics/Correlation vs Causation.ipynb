{
 "cells": [
  {
   "cell_type": "markdown",
   "metadata": {},
   "source": [
    "<b><i>\"Correlation does not imply causation\"</i></b>  - Statistics statement\n",
    "\n",
    "X axis - choclolate consumption per capita, Y axis - Nobel prize winner per 10 million people. \n",
    "\n",
    "r = 0.791 - X increases, Y increases, hence they are correlated.\n",
    "\n",
    "From this above correlation, we cannot confirm that X causes Y and vice versa. -<b> WRONG CONCLUSION </b>\n",
    "\n",
    "<b><i>In Statistics, if 2 random variables are correlated does not mean that one causes the other. - It means they are only correlated.</i></b>  \n",
    "\n",
    "\"Causal models\" - to analyse what causes what. Never confuse correlation with causation."
   ]
  }
 ],
 "metadata": {
  "kernelspec": {
   "display_name": "Python 3",
   "language": "python",
   "name": "python3"
  },
  "language_info": {
   "codemirror_mode": {
    "name": "ipython",
    "version": 3
   },
   "file_extension": ".py",
   "mimetype": "text/x-python",
   "name": "python",
   "nbconvert_exporter": "python",
   "pygments_lexer": "ipython3",
   "version": "3.6.4"
  }
 },
 "nbformat": 4,
 "nbformat_minor": 2
}
