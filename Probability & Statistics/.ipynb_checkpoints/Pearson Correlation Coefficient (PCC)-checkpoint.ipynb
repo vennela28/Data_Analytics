{
 "cells": [
  {
   "cell_type": "markdown",
   "metadata": {},
   "source": [
    "Pearson Correlation Coefficient (PCC) <b> ρₓ,ᵧ = co-variance(x, y) / σₓσᵧ </b>"
   ]
  },
  {
   "cell_type": "markdown",
   "metadata": {},
   "source": [
    "Co-variance does not take into effect what is the variability σₓ, σᵧ. \n",
    "\n",
    "Standard deviation of x, <b> σₓ = √var(x) </b>\n",
    "\n",
    "When we are measuring co-variance, we are not measuring the variability between x and y - σₓ, σᵧ.\n",
    "\n",
    "PCC is a small modification of co-variance. It is dividing the co-variance by σₓ and σᵧ.\n",
    "\n",
    "One <b>drawback with co-variance</b> is that, if x increases and y increases, then co-variance is positive, but we do not know by how much is co-variance positive. If x increases and y decreases, then co-variance is negative, but we do not know by how much is co-variance negative."
   ]
  },
  {
   "cell_type": "markdown",
   "metadata": {},
   "source": [
    "This is taken care by PCC (ρ).\n",
    "\n",
    "Unlike co-variance, ρ is bound between +1 and -1. <b> -1 <= ρ < 1 </b>\n",
    "\n",
    "If there is a random variable x and a random variable y and also that if x increases, y increases; x and y lie perfectly on a straight line. - Perfectly <b> monotonically </b> increase - <b> ρ = +1 </b>\n",
    "\n",
    "\n",
    "if x increases, y decreases; x and y lie perfectly on a straight line. - Perfectly <b> monotonically </b> decrease - <b> ρ = -1 </b>\n",
    "\n",
    "if x increases, y increases; but x and y do not lie perfectly on a straight line. - <b> monotonically </b> increase - <b> 0 < ρ < +1 </b>\n",
    "\n",
    "\n",
    "if x increases, y decreases; but x and y do not lie perfectly on a straight line. - <b> monotonically </b> decrease - <b>-1 < ρ < 0 </b>\n",
    "\n",
    "If x and y have no relation then PCC becomes 0. <b> ρ = 0 </b>\n",
    "\n",
    "For instance, if x is the heights of the students and y is the grades of the corresponding students. There is no relationship between x and y. There is no rule that the tallest person performs better and vice-versa. So in this case <b> ρ = 0 </b>\n",
    "\n"
   ]
  },
  {
   "cell_type": "markdown",
   "metadata": {},
   "source": [
    "<b> Observations </b>\n",
    "\n",
    "Co-variance and PCC are biased towards linear relationships. When the relationship between x and y is perfectly linear they will give <b>ρ = +1</b> or <b>ρ = -1</b>.\n",
    "\n",
    "If x increases and y increases and if they are perfectly on a straight line then the ρ = +1\n",
    "\n",
    "If they are not perfectly on a straight line, there is no perfect linear relationship, there are points away from your perfect linear line, then ρ = +0.8, can become ρ = +0.4 (elliptical) , ρ = 0 (circle), and become ρ = -0.4 and ρ = -0.8. The variance on the linear line between x and y is increasing.\n",
    "\n",
    "In PCC, the slope of the line does not matter. Even if θ varies, PCC does not get affected. ρ = +1 or ρ = -1. It does not tell us how fast is one random variable increasing with respect to other random variable. We are not using slopes.\n",
    "\n",
    "<b> Limitation of PCC </b>\n",
    "\n",
    "- PCC cannot capture complex non-linear relationships. y = sin(x) + error; y = x² + error.\n",
    "\n",
    "- PCC can never be able to predict. "
   ]
  }
 ],
 "metadata": {
  "kernelspec": {
   "display_name": "Python 3",
   "language": "python",
   "name": "python3"
  },
  "language_info": {
   "codemirror_mode": {
    "name": "ipython",
    "version": 3
   },
   "file_extension": ".py",
   "mimetype": "text/x-python",
   "name": "python",
   "nbconvert_exporter": "python",
   "pygments_lexer": "ipython3",
   "version": "3.6.4"
  }
 },
 "nbformat": 4,
 "nbformat_minor": 2
}
