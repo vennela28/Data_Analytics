{
 "cells": [
  {
   "cell_type": "markdown",
   "metadata": {},
   "source": [
    "Lets assume we have 2 random variables - X₁ and X₂\n",
    "\n",
    "X₁ = [x₁', x₂', ..., xₙ'] - n samples\n",
    "\n",
    "X₂ = [x₁, x₂, ..., xₘ ] - m samples\n",
    "\n",
    "<h5>Are these 2 samples X₁ and X₂ coming from the same distribution or not? </h5>\n",
    "<h6> Is the distribution of X₁ same as X₂? </h6>"
   ]
  },
  {
   "cell_type": "markdown",
   "metadata": {},
   "source": [
    "1. Plot the CDF of both X₁(n observations) and X₂(m observations).\n",
    "2. Null Hypothesis(Hₒ): In K-S Test X₁ and X₂ have the same distribution.\n",
    "3. Test statistic: When we plot X₁ and X₂, we can take difference between the 2 plots at any time.\n",
    "    - If they both overlap the difference is 0. When n and m are very large they might overlap.\n",
    "    - But when n and m are very small, the CDF for X₁ and X₂ might have some difference.\n",
    "\n",
    "<b> Dₙ,ₘ = supremumₓ|F₁,ₙ(x) - F₂,ₘ(x)|</b>, where F₁,ₙ(x) is the CDF of x with n samples and F₂,ₘ(x) is the CDF of x with m samples.\n",
    "    - Here supremum means the maximal value\n",
    "    - Dₙ,ₘ is test statistic in K-S Test - The gap between CDF of random variable X₁ and X₂"
   ]
  },
  {
   "cell_type": "markdown",
   "metadata": {},
   "source": [
    "- Null Hypothesis (Hₒ) is true, if X₁ and X₂ have the same distribution and n and m are very large, then test statistic Dₙ,ₘ = 0\n",
    "\n",
    "- If n and m are very large, but Null Hypothesis (Hₒ) is false which means X₁ and X₂ do not have the same distribution then test statistic Dₙ,ₘ > 0\n",
    " \n",
    "- If Dₙ,ₘ > c(α)√(n+m)/nm, where n = 1000, m = 5000, α (p-value) = 0.05. If the maximal gap between 2 CDFs is greater than 0.047, then reject Hₒ at 5% significance level.\n",
    "\n",
    "- If the test statistic Dₙ,ₘ < 0.047, accept Hₒ at 5% significance level."
   ]
  }
 ],
 "metadata": {
  "kernelspec": {
   "display_name": "Python 3",
   "language": "python",
   "name": "python3"
  },
  "language_info": {
   "codemirror_mode": {
    "name": "ipython",
    "version": 3
   },
   "file_extension": ".py",
   "mimetype": "text/x-python",
   "name": "python",
   "nbconvert_exporter": "python",
   "pygments_lexer": "ipython3",
   "version": "3.6.4"
  }
 },
 "nbformat": 4,
 "nbformat_minor": 2
}
