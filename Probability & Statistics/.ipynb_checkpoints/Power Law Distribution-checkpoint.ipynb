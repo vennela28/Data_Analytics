{
 "cells": [
  {
   "cell_type": "markdown",
   "metadata": {},
   "source": [
    "# Pareto Distribution"
   ]
  },
  {
   "cell_type": "markdown",
   "metadata": {},
   "source": [
    "There are 2 variables x & y. If the relationship between x and y where x is continuous random variable. \n",
    "\n",
    "There is a very long tail for Power Law functions. \n",
    "\n",
    "It follows <b>80-20 rule</b>. \n",
    "\n",
    "In the top 20% of the values we find 80% of the density.\n",
    "\n",
    "80% of time you find values in the first 20% of intervals. \n",
    "\n",
    "When a distribution follows a Power Law, it is known as a Pareto Distribution."
   ]
  },
  {
   "cell_type": "markdown",
   "metadata": {},
   "source": [
    "<b>Parameters</b> : $x_{m}$  > 0, α > 0"
   ]
  },
  {
   "cell_type": "markdown",
   "metadata": {},
   "source": [
    "Probability Density Function where $x_{m}$ = 1 and x is a random variable. \n",
    "\n",
    "Pareto Distributions are for continuous random variables. "
   ]
  },
  {
   "cell_type": "markdown",
   "metadata": {},
   "source": [
    "As α reduces, the tail becomes more fat."
   ]
  },
  {
   "cell_type": "markdown",
   "metadata": {},
   "source": [
    "<b>Dirac Delta Function</b> : At a given value it has a peak value, everywhere else it is 0.\n",
    "\n",
    "It is a peaked function with only 1 value, rest everywhere it is 0."
   ]
  },
  {
   "cell_type": "markdown",
   "metadata": {},
   "source": [
    "<h3> Applications of Pareto Distribution </h3>"
   ]
  },
  {
   "cell_type": "markdown",
   "metadata": {},
   "source": [
    "- Distribution of Human population in a city, village - sizes in each geographical entity.\n",
    "\n",
    "- File size distribution of Internet traffic which uses TCP protocol."
   ]
  },
  {
   "cell_type": "markdown",
   "metadata": {},
   "source": [
    "<b>Check whether something is following Power Law Distribution? </b>"
   ]
  },
  {
   "cell_type": "markdown",
   "metadata": {},
   "source": [
    "<h5> Log-log plots </h5>"
   ]
  },
  {
   "cell_type": "markdown",
   "metadata": {},
   "source": [
    "Having 2 variables x and y where y is the pobability values. \n",
    "\n",
    "Instead of plotting x and y, plot log(x) and log(y). \n",
    "\n",
    "If we get a straight slope, then x and y follow a power law relationship. The axes are log scaled. "
   ]
  }
 ],
 "metadata": {
  "kernelspec": {
   "display_name": "Python 3",
   "language": "python",
   "name": "python3"
  },
  "language_info": {
   "codemirror_mode": {
    "name": "ipython",
    "version": 3
   },
   "file_extension": ".py",
   "mimetype": "text/x-python",
   "name": "python",
   "nbconvert_exporter": "python",
   "pygments_lexer": "ipython3",
   "version": "3.6.4"
  }
 },
 "nbformat": 4,
 "nbformat_minor": 2
}
