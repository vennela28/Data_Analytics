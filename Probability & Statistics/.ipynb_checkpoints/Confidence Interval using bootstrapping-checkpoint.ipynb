{
 "cells": [
  {
   "cell_type": "markdown",
   "metadata": {},
   "source": [
    "- C.I. for median, variance, standard-deviation, 90th %ile are non-trivial.\n",
    "- advent of modern computing - programming & simulation based techniques to compute C.I.\n",
    "\n",
    "<b><i> Compute C.I. for median - non-parameteric technique</i></b> - does not make any assumptions about the distribution of data. \n",
    "\n",
    "X ~ F distribution \n",
    "\n",
    "<b><u><i>Task</i></u></b>: estimate 95% C.I. for median of X\n",
    "\n",
    "X: {x1, x2, ..., xn} where n = 10\n",
    "\n",
    "Generate new random sample of size m from the original sample X.\n",
    "\n",
    "X': {x1', x2', ..., xm'} such that m <= n\n",
    "\n",
    "Let's assume m = 5, n = 10. Some of the samples may repeat - sampling with replacement\n",
    "\n",
    "Generate discrete uniform random Variable X' between 1 and n for m-times: u(1, n)\n",
    "\n",
    "If the value is 3, then x3 is copied to x1' and again uniform random number generator and produce the other values. If value 3 is generated again x3 is copied to x2'. This process is done for m-times. \n",
    "\n",
    "X: {x1, x2, ..., xn} ----> using sampling with replacement ---> generate new sample X', X\", ... Xk\n",
    "\n",
    "X': {x1', x2'..., xm'}    ----> compute median of sample X' = m1\n",
    "\n",
    "X\": {x1\", x2\", ..., xm\"}    ----> compute median of sample X\" = m2\n",
    "\n",
    "Xk: {x1k, x2k, ..., xmk}    ----> compute median of sample Xk = mk\n",
    "\n",
    "These samples are called bootstrap samples - artificially created.\n",
    "\n",
    "Let k = 1000, then there are 1000 medians {m1, m2,...,m1000} generated using bootstrap samples. \n",
    "\n",
    "Sort these medians so we get m1'<= m2'<= ...<= m1000' (increasing order)\n",
    "\n",
    "From this we can compute Confidence Interval (C.I.) as follows\n",
    "\n",
    "There are 25 values less than m25' and 25 values greater than m975' i.e. there are 950 values between m25' and m975'.\n",
    "\n",
    "95% C.I. of median of random sample X is [m25', m975'], since 950/1000 = 95%\n",
    "\n",
    "If we want variance, standard-deviation we need to generate variance and standard-deviation of random samples of size m from the original sample of size n. \n",
    "\n",
    "This is how we get the 95% C.I. of the variance / standard-deviation of random sample X. "
   ]
  },
  {
   "cell_type": "code",
   "execution_count": 6,
   "metadata": {},
   "outputs": [
    {
     "data": {
      "image/png": "[encoded data removed]",
      "text/plain": [
       "<matplotlib.figure.Figure at 0x2183e5fc0f0>"
      ]
     },
     "metadata": {},
     "output_type": "display_data"
    },
    {
     "name": "stdout",
     "output_type": "stream",
     "text": [
      "95.0 confidence interval 161.5 and 176.0 \n"
     ]
    }
   ],
   "source": [
    "import numpy\n",
    "from pandas import read_csv\n",
    "from sklearn.utils import resample\n",
    "from sklearn.metrics import accuracy_score\n",
    "from matplotlib import pyplot\n",
    "\n",
    "# load dataset\n",
    "x = numpy.array([180, 162, 158, 172, 168, 150, 171, 183, 165, 176])\n",
    "\n",
    "# configure bootstrap\n",
    "n_iterations = 1000\n",
    "n_size = int(len(x))\n",
    "\n",
    "# run bootstrap\n",
    "medians = list()\n",
    "for i in range(n_iterations):\n",
    "    # prepare train and test sets\n",
    "    s = resample(x, n_samples=n_size);\n",
    "    m = numpy.median(s);\n",
    "    # print(m)\n",
    "    medians.append(m)\n",
    "\n",
    "# plot scores\n",
    "pyplot.hist(medians)\n",
    "pyplot.show()\n",
    "\n",
    "# confidence intervals\n",
    "alpha = 0.95\n",
    "p = ((1.0 - alpha)/2.0) * 100\n",
    "lower = numpy.percentile(medians, p)\n",
    "\n",
    "p = (alpha + ((1.0 - alpha)/2.0)) * 100\n",
    "upper = numpy.percentile(medians, p)\n",
    "print(\"%.1f confidence interval %.1f and %.1f \" %(alpha*100, lower, upper))"
   ]
  }
 ],
 "metadata": {
  "kernelspec": {
   "display_name": "Python 3",
   "language": "python",
   "name": "python3"
  },
  "language_info": {
   "codemirror_mode": {
    "name": "ipython",
    "version": 3
   },
   "file_extension": ".py",
   "mimetype": "text/x-python",
   "name": "python",
   "nbconvert_exporter": "python",
   "pygments_lexer": "ipython3",
   "version": "3.6.4"
  }
 },
 "nbformat": 4,
 "nbformat_minor": 2
}
