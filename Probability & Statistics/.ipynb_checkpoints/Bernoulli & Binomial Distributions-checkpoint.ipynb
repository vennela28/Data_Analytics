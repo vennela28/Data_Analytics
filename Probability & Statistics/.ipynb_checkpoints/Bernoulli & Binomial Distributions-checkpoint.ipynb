{
 "cells": [
  {
   "cell_type": "markdown",
   "metadata": {},
   "source": [
    "Bernoulli & Binomial distributions are discrete distributions.\n",
    "\n",
    "Coin toss: H / T\n",
    "    \n",
    "The probability of getting H is 0.5 and probability of getting T is 0.5\n"
   ]
  },
  {
   "cell_type": "markdown",
   "metadata": {},
   "source": [
    "Bernoulli Distribution is used when we have 2 outcomes; the probability of getting 1 outcome is p and probability of getting the other outcome is 1-p.  \n",
    "\n",
    "<b>Parameters</b>: 0 < p < 1\n",
    "\n",
    "p + q = 1\n",
    "\n",
    "<b>PMF</b>: q = (1 - p), k = 0\n",
    "            \n",
    "       = p , k = 1"
   ]
  },
  {
   "cell_type": "markdown",
   "metadata": {},
   "source": [
    "<h5> Bernoulli Distribution </h5>\n",
    "\n",
    "It is the probability distribution of a random variable which takes the value 1 with probability p and the value 0 with a probability of q = 1 - p."
   ]
  },
  {
   "cell_type": "markdown",
   "metadata": {},
   "source": [
    "The question results in a boolean-valued outcome, a single bit whose value is success / yes / true / 1 with probability p and failure / no / false / 0 with probability q = 1 - p"
   ]
  },
  {
   "cell_type": "markdown",
   "metadata": {},
   "source": [
    "When we toss a coin the probability of getting Head / Tail = 0.5. \n",
    "\n",
    "<b>X = Bernoulli(p)</b>, where p = 0.5"
   ]
  },
  {
   "cell_type": "markdown",
   "metadata": {},
   "source": [
    "<h5> Binomial Distribution </h5>"
   ]
  },
  {
   "cell_type": "markdown",
   "metadata": {},
   "source": [
    "When you toss a coin n times, the number of times I get Head.\n",
    "\n",
    "Y = number of times I get a Head\n",
    "\n",
    "When I toss my fair coin n = 10 times, the probability of getting Head is Y = {0, 1, 2, 3, 4, 5, 6, 7, 8, 9, 10}.\n",
    "\n",
    "<b>Y = Binonmial(n, p)</b>, where n is the number of trials and p is probability of getting Head or 1."
   ]
  }
 ],
 "metadata": {
  "kernelspec": {
   "display_name": "Python 3",
   "language": "python",
   "name": "python3"
  },
  "language_info": {
   "codemirror_mode": {
    "name": "ipython",
    "version": 3
   },
   "file_extension": ".py",
   "mimetype": "text/x-python",
   "name": "python",
   "nbconvert_exporter": "python",
   "pygments_lexer": "ipython3",
   "version": "3.6.4"
  }
 },
 "nbformat": 4,
 "nbformat_minor": 2
}
