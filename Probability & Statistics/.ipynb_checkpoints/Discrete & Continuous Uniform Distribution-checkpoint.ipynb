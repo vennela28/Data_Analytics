{
 "cells": [
  {
   "cell_type": "markdown",
   "metadata": {},
   "source": [
    "2 types of Uniform Distribution\n",
    "- Continuous - If a random variable is continuous and follows Uniform Distribution then it is a Continuous Uniform Distribution.\n",
    "- Discrete - If a random variable is discrete and follows Uniform Distribution then it is a Discrete Uniform Distribution."
   ]
  },
  {
   "cell_type": "markdown",
   "metadata": {},
   "source": [
    "<h4> Discrete Uniform Distribution </h4>"
   ]
  },
  {
   "cell_type": "markdown",
   "metadata": {},
   "source": [
    "Probability Mass Function (PMF) is for discrete random variables.\n",
    "\n",
    "In Uniform Distribution all values are equi-probable. Let us assume, there is a fair dice. 1, 2, 3, 4, 5, 6 are all probable numbers with a probability of 1/6 for each number. a = 1, b = 6, n = 6 and probability of getting any number is 1 / n = 1 / 6\n",
    "\n",
    "U(a, b) - uniform distribution where b > a, n = b - a + 1; If we know a and b we know everything about the distribution.\n",
    "\n",
    "Uniform distribution says that the probability of getting any value is uniform and is exactly the same.\n",
    "\n",
    "In PMF, we can only represent by dots. Probability of getting the value of 1 is same as probability of getting the value of any number 2, 3, 4, 5, 6. There is no probability of getting any other value in between 2 and 3 and so on. So it is called discrete random variables.\n",
    "\n",
    "Cumulative Distribution Function is a non-smooth function in this case.\n",
    "\n",
    "U(a, b)\n",
    "\n",
    "n = b - a + 1\n",
    "\n",
    "PMF = 1 / n\n",
    "\n",
    "Mean = (a + b) / 2\n",
    "\n",
    "Median = (a + b) / 2\n",
    "\n",
    "Variance = (b - a + 1)^2 - 1 / 12\n",
    "\n",
    "Skewness = 0"
   ]
  },
  {
   "cell_type": "markdown",
   "metadata": {},
   "source": [
    "<h4> Continuous Uniform Distribution </h4>"
   ]
  },
  {
   "cell_type": "markdown",
   "metadata": {},
   "source": [
    "Probability Density Function (PDF) is for continuous random variables.\n",
    "\n",
    "Probability Density Function (PDF) which means it is a continuous random function.\n",
    "\n",
    "U(a, b) is the uniform distribution where a < b\n",
    "\n",
    "a is minimum value\n",
    "\n",
    "b is maximum value\n",
    "\n",
    "All of the values in this interval - PDF of a uniform distribution of a continuous random variable is a continuous line. The probability of any value is the same = 1 / (b - a).\n",
    "\n",
    "The area under Probability curve / PDF should be 1.\n",
    "\n",
    "PDF = 1 / (b - a)      &           a < b\n",
    "\n",
    "Mean = (a + b) / 2\n",
    "\n",
    "Median = (a + b) / 2"
   ]
  }
 ],
 "metadata": {
  "kernelspec": {
   "display_name": "Python 3",
   "language": "python",
   "name": "python3"
  },
  "language_info": {
   "codemirror_mode": {
    "name": "ipython",
    "version": 3
   },
   "file_extension": ".py",
   "mimetype": "text/x-python",
   "name": "python",
   "nbconvert_exporter": "python",
   "pygments_lexer": "ipython3",
   "version": "3.6.4"
  }
 },
 "nbformat": 4,
 "nbformat_minor": 2
}
