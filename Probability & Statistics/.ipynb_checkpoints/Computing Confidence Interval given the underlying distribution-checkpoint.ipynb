{
 "cells": [
  {
   "cell_type": "markdown",
   "metadata": {},
   "source": [
    "Let us have a random variable X which is Gaussian distributed - X ~ N(μ, σ)\n",
    "\n",
    "Let X is the heights of some students following Gaussian distribution following population mean(μ) = 168cm and population standard deviation(σ) = 5cm\n",
    "\n",
    "Gaussian distibuted curve with μ = 168cm, (μ - σ) = 163cm, (μ - 2σ) = 158cm, (μ + σ) = 173cm, (μ + 2σ) = 178cm  --->   PDF of x\n",
    "\n",
    "- 95% of the data lie between (μ - 2σ) and (μ + 2σ), i.e. heights of the students lie between [158, 178] with 95% probability. - CI of heights with 95% probability.\n",
    "- Only 2.5% of the data lies less than (μ - 2σ) and 2.5% of the data lies greater than (μ + 2σ).\n",
    "- 95% is the Confidence(C). \n",
    "- Normal distribution tables - heights lie between [x', x\"] with 90% probability."
   ]
  }
 ],
 "metadata": {
  "kernelspec": {
   "display_name": "Python 3",
   "language": "python",
   "name": "python3"
  },
  "language_info": {
   "codemirror_mode": {
    "name": "ipython",
    "version": 3
   },
   "file_extension": ".py",
   "mimetype": "text/x-python",
   "name": "python",
   "nbconvert_exporter": "python",
   "pygments_lexer": "ipython3",
   "version": "3.6.4"
  }
 },
 "nbformat": 4,
 "nbformat_minor": 2
}
