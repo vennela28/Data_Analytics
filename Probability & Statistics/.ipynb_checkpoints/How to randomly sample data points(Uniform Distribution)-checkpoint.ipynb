{
 "cells": [
  {
   "cell_type": "markdown",
   "metadata": {},
   "source": [
    "# Random Number Generator (Uniform Distribution)"
   ]
  },
  {
   "cell_type": "markdown",
   "metadata": {},
   "source": [
    "In C, Java we can generate pseudo random number. In C we have a library stdlib in which we have a function called rand() which generates uniform random numbers."
   ]
  },
  {
   "cell_type": "code",
   "execution_count": 24,
   "metadata": {},
   "outputs": [
    {
     "name": "stdout",
     "output_type": "stream",
     "text": [
      "0.7053454150273674\n"
     ]
    }
   ],
   "source": [
    "import random\n",
    "print(random.random())  # displays a value from 0 and 1 and picks a value uniformly at random  "
   ]
  },
  {
   "cell_type": "code",
   "execution_count": 26,
   "metadata": {},
   "outputs": [
    {
     "data": {
      "text/plain": [
       "(150, 4)"
      ]
     },
     "execution_count": 26,
     "metadata": {},
     "output_type": "execute_result"
    }
   ],
   "source": [
    "# load Iris dataset with 150 points\n",
    "from sklearn import datasets\n",
    "iris = datasets.load_iris()\n",
    "d = iris.data\n",
    "d.shape"
   ]
  },
  {
   "cell_type": "code",
   "execution_count": 39,
   "metadata": {},
   "outputs": [
    {
     "name": "stdout",
     "output_type": "stream",
     "text": [
      "The length of sampled data is 25\n",
      "\n",
      "The sampled data is as follows:\t [array([5.4, 3.9, 1.7, 0.4]), array([5.1, 3.5, 1.4, 0.3]), array([5.4, 3.4, 1.7, 0.2]), array([5.2, 4.1, 1.5, 0.1]), array([5.5, 4.2, 1.4, 0.2]), array([5. , 3.2, 1.2, 0.2]), array([4.4, 3. , 1.3, 0.2]), array([4.8, 3. , 1.4, 0.3]), array([6.9, 3.1, 4.9, 1.5]), array([6.6, 2.9, 4.6, 1.3]), array([5.2, 2.7, 3.9, 1.4]), array([5.8, 2.7, 4.1, 1. ]), array([6.3, 2.5, 4.9, 1.5]), array([5.5, 2.4, 3.7, 1. ]), array([5.5, 2.5, 4. , 1.3]), array([5.7, 3. , 4.2, 1.2]), array([6.3, 2.9, 5.6, 1.8]), array([6.5, 3. , 5.8, 2.2]), array([7.2, 3.6, 6.1, 2.5]), array([6. , 2.2, 5. , 1.5]), array([6.7, 3.3, 5.7, 2.1]), array([7.4, 2.8, 6.1, 1.9]), array([6.3, 2.8, 5.1, 1.5]), array([6.9, 3.1, 5.4, 2.1]), array([6.7, 3.3, 5.7, 2.5])]\n"
     ]
    }
   ],
   "source": [
    "# Sample 30 points randomly from 150 point dataset\n",
    "n = 150\n",
    "m = 30\n",
    "p = m / n  # p = 0.2\n",
    "\n",
    "sampled_data = []\n",
    "\n",
    "for i in range(0,n):   # iterate among 150 datapoints\n",
    "    if random.random() <= p:   # random.random() generates datapoints between 0 and 1. Checks which datapoints are below 0.2\n",
    "        sampled_data.append(d[i,:])  # append to the final list, neglecting datapoints greater than 0.2\n",
    "        \n",
    "# the sample generated will be roughly 30.\n",
    "print(\"The length of sampled data is\",len(sampled_data))  # displays length of random datapoints list everytime the code is run\n",
    "print(\"\\nThe sampled data is as follows:\\t\",sampled_data) \n"
   ]
  }
 ],
 "metadata": {
  "kernelspec": {
   "display_name": "Python 3",
   "language": "python",
   "name": "python3"
  },
  "language_info": {
   "codemirror_mode": {
    "name": "ipython",
    "version": 3
   },
   "file_extension": ".py",
   "mimetype": "text/x-python",
   "name": "python",
   "nbconvert_exporter": "python",
   "pygments_lexer": "ipython3",
   "version": "3.6.4"
  }
 },
 "nbformat": 4,
 "nbformat_minor": 2
}
