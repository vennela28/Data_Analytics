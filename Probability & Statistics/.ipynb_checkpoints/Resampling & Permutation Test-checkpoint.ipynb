{
 "cells": [
  {
   "cell_type": "markdown",
   "metadata": {},
   "source": [
    "<b><i>How to compute p-value? </i><b>"
   ]
  },
  {
   "cell_type": "markdown",
   "metadata": {},
   "source": [
    "we decided to accept a null hypothesis(Hₒ) or reject based on a p-value.\n",
    "\n",
    "<b><i>Permutation testing</i></b>: compute p-value\n",
    "\n",
    "1. Let us assume we have heights of 50 students in Cl1 having mean height as μ1 and 50 students in Cl2 having mean height as μ2 and the difference in heights (μCl1 - μCl2) = Δ (big Delta)\n",
    "2. Put all the 100 heights of students together and jumble the set.\n",
    "3. <b><i>Randomly sample</i></b> 50 points and put in a vector called X and Y and compute the means X mean = μ1 and Y mean = μ2.\n",
    "4. Now compute (μ1 - μ2) = ẟ1 (small Delta)\n",
    "5. Again randomly sample from the same set of 100 heights and again compute (μ1 - μ2) = ẟ2\n",
    "6. Randomly sample for 10k times and compute ẟ10k.\n",
    "7. Sort ẟ1, ẟ2, ẟ3, ..., ẟ10k in increasing order and get ẟ1', ẟ2', ẟ3', ..., ẟ10k'\n",
    "8. See where does Δ fit in ẟ1', ẟ2', ẟ3', ..., ẟ10k', i.e. ẟ1', ẟ2', ẟ3', Δ, ..., ẟ10k'\n",
    "9. Let us assume there are 5% of points which are greater than Δ, then we can conclude that p-value is 5%. \n",
    "10. <h5>In other words, if there are x% of points which are greater than Δ, then we can conclude that p-value is x%.</h5>\n",
    "\n",
    "Lets assume that there is no difference between heights in Cl1 and Cl2 -assuming Hₒ. \n",
    "If we randomly sample points from Cl1 and Cl2, if Δ is greater than 95% of the points, then it is not actually random. We should reject Hₒ. \n",
    "\n",
    "That is why when we get a small p-value, we end up rejecting Hₒ.\n",
    "\n",
    "If p-value = 0.2, which is high, we will accept Hₒ. \n",
    "\n",
    "In scientific computing, the p-value = 0.05 (5% significance).\n",
    "\n",
    "In medical science, we don't want the test to be random. It should be far away from random. In such cases, we take p-value = 0.01\n",
    "\n",
    "<i>Modern Computing</i>\n",
    "\n",
    "Lets assume ẟ ~ N(0,1) - normal Gaussian distribution with 0 mean, 1 standard deviation and Δ = 2\n",
    "\n",
    "The chance of observing a value 2 or higher is 2.5%. \n",
    "\n",
    "So, P(δ >= 2) = 0.025 (2.5%), i.e. p-value = 0.025"
   ]
  }
 ],
 "metadata": {
  "kernelspec": {
   "display_name": "Python 3",
   "language": "python",
   "name": "python3"
  },
  "language_info": {
   "codemirror_mode": {
    "name": "ipython",
    "version": 3
   },
   "file_extension": ".py",
   "mimetype": "text/x-python",
   "name": "python",
   "nbconvert_exporter": "python",
   "pygments_lexer": "ipython3",
   "version": "3.6.4"
  }
 },
 "nbformat": 4,
 "nbformat_minor": 2
}
