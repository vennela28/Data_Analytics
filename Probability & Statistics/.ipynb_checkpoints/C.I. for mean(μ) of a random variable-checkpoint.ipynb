{
 "cells": [
  {
   "cell_type": "markdown",
   "metadata": {},
   "source": [
    "Let's have a random variable X with some random distribution. \n",
    "\n",
    "X ~ F with population mean(μ) and population standard deviation(σ)\n",
    "\n",
    "X = {x1, x2, ..., x10} i.e X = {180, 162, 158, 172, 168, 150, 171, 183, 165, 176}\n",
    "\n",
    "What is 95% C.I. of μ?\n",
    "\n",
    "<u><i> Case 1:</i></u> σ = 5 cm i.e. - we know the population standard deviation (σ)\n",
    "- Use CLT\n",
    "- Use Gaussian distribution N(μ, σ/√n)\n",
    "\n",
    "Central Limit Theorem (CLT): x̄ (sample mean) = 1/10 ∑xᵢ (i = 1 to 10)\n",
    "\n",
    "CLT tells us that whatever may be the distribution of sample size n with μ and σ are finite and valid x̄ ~ N(μ, σ/√n) - Sample mean (x̄) follows a Gaussian distribution with mean as population mean(μ) and population standard deviation is (σ/√n).\n",
    "\n",
    "Since the sample mean (x̄) follows the Gaussian distribution, the population mean, <b> μ ∈ [x̄ - 2σ/√n, x̄ + 2σ/√n] with 95% confidence</b>\n",
    "\n",
    "x̄ = 168.5 cm, σ = 5 cm, n = 10\n",
    "\n",
    "So, μ ∈ [165.34, 171.66] with 95% confidence."
   ]
  },
  {
   "cell_type": "markdown",
   "metadata": {},
   "source": [
    "<u><i>Case 2</i></u>: we do not know the standard deviation (σ) - <b><i>T-distribution</i></b>\n",
    "- t-distribution(n-1) degrees of freedom\n",
    "\n",
    "Sample of n elements. We cannot use Central Limit Theorem if we do not know σ.\n",
    "\n",
    "<b><i>t-distribution / Student's t-distribution </i></b> - estimate confidence intervals of mean(μ) of a random variable when the σ is unknown.\n",
    "\n",
    "<b>x̄ ~ t(n-1)</b> Sample mean(x̄) follows t-ditribution with (n-1) degrees of freedom.\n",
    "\n",
    "Student's t-distribution is somewhat like a Gaussian curve but not a Gaussian curve. \n",
    "\n",
    "parameter, v = degrees of freedom\n",
    "\n",
    "As the degrees of freedom increases, the peakedness increases and the curve resembles a Gaussian distribution curve. "
   ]
  },
  {
   "cell_type": "markdown",
   "metadata": {},
   "source": [
    "<b>Problems</b>\n",
    "\n",
    "- estimate C.I. for σ of a random variable?\n",
    "- estimate C.I. for median of a random variable?\n",
    "- estimate C.I. for 90th%ile of a random variable?\n",
    "\n",
    "<b><i>Central Limit Theorem (CLT) works easily for mean(μ). But it doesn't work easily for standard deviation(σ).</i></b>"
   ]
  }
 ],
 "metadata": {
  "kernelspec": {
   "display_name": "Python 3",
   "language": "python",
   "name": "python3"
  },
  "language_info": {
   "codemirror_mode": {
    "name": "ipython",
    "version": 3
   },
   "file_extension": ".py",
   "mimetype": "text/x-python",
   "name": "python",
   "nbconvert_exporter": "python",
   "pygments_lexer": "ipython3",
   "version": "3.6.4"
  }
 },
 "nbformat": 4,
 "nbformat_minor": 2
}
