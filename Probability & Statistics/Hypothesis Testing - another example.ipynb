{
 "cells": [
  {
   "cell_type": "markdown",
   "metadata": {},
   "source": [
    "<h5>Difference of means</h5>"
   ]
  },
  {
   "cell_type": "markdown",
   "metadata": {},
   "source": [
    "Let us consider 2 cities C₁ and C₂. \n",
    "\n",
    "<i><u>Task</u></i>: Determine if the population mean of heights of people living in these city C₁, μ₁ and city C₂, μ₂ is same or not i.e. μ₁ and μ₂ are same or different.\n",
    "\n",
    "Finding μ₁ and μ₂ is expensive and not practical. So, we solve this problem by taking sample mean instead of population mean\n",
    "\n",
    "<i><u>Design of Experiment</u></i>: Randomly pick 50 people from C₁ and C₂ and take their heights as in city C₁ = [h₁, h₂, ..., h₅₀] and in city C₂ = [h₁', h₂', ..., h₅₀']\n",
    "\n",
    "Compute sample mean μ₁ for city C₁ and μ₂ for city C₂. Since we can't compute population mean, we use sample mean μ₁ and μ₂ for the experiment.\n",
    "\n",
    "<i><u>Observations</u></i>:Suppose we get μ₁ = 162cm and μ₂ = 167cm\n",
    "\n",
    "<i><u>Test Statistic</u></i>: |μ₁-μ₂| = x = 5cm\n",
    "\n",
    "<i><u>Null Hypothesis(Hₒ)</u></i>: There is no difference in population means of the heights of the people living in these cities. \n",
    "\n",
    "<i><u>Compute</u></i>: P(x=5cm | Hₒ) where x is difference in sample means with sample size of 50 - The probability of observing a difference of 5cm in sample mean heights of sample size 50 between cities C₁ and C₂ if there is no difference in population mean heights.\n",
    "\n",
    "<i><u>Case 1</u></i>: <b>P(x=5|Hₒ) = 0.2 i.e. 20% </b> - significant - There is a 20% chance of observing a difference of 5cm in sample mean heights of people living in cities C₁ and C₂ with a sample size of 50, if Hₒ (there is no difference in population means of heights) is true. This implies that our assumption must be true i.e. we accept null hypothesis (Hₒ).\n",
    "\n",
    "<i><u>Case 2</u></i>: <b>P(x=5|Hₒ) = 0.03 i.e. 3% </b> - very small (less than 5%)- There is a 3% chance of observing a difference of 5cm in sample mean heights of people living in cities C₁ and C₂ with a sample size of 50, if Hₒ (there is no difference in population means of heights) is true. This implies that our assumption must be incorrect i.e. we reject null hypothesis (Hₒ) and accepting alternative hypothesis (H₁) which means that the population means are not the same."
   ]
  }
 ],
 "metadata": {
  "kernelspec": {
   "display_name": "Python 3",
   "language": "python",
   "name": "python3"
  },
  "language_info": {
   "codemirror_mode": {
    "name": "ipython",
    "version": 3
   },
   "file_extension": ".py",
   "mimetype": "text/x-python",
   "name": "python",
   "nbconvert_exporter": "python",
   "pygments_lexer": "ipython3",
   "version": "3.6.4"
  }
 },
 "nbformat": 4,
 "nbformat_minor": 2
}
