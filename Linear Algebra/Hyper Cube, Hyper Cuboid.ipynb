{
 "cells": [
  {
   "cell_type": "markdown",
   "metadata": {},
   "source": [
    "In 3-D, the equivalent idea of a rectangle is called a <b>Cuboid</b>. \n",
    "\n",
    "In n-D, the equivalent idea of a rectangle is called a <b>Hyper Cuboid</b>. \n",
    "\n",
    "The cuboid can be represented using if-else conditions, if (x1 > 2 && x1 < 5) && (x2 > 1 && x2 < 4) && (x3 > 6 && x3 < 8), then the figure we get is a cuboid.\n",
    "\n",
    "If we have an equation for a line as x1 = 2, then this line is parallel to y-axis - <b>axis parallel line </b>\n",
    "\n",
    "The generalized equation of a line is w0 + w1.x1 + w2.x2 = 0. \n",
    "\n",
    "If we replace w2 = 0, w1 = 1, w0 = -2, we exactly x1 = 2."
   ]
  }
 ],
 "metadata": {
  "kernelspec": {
   "display_name": "Python 3",
   "language": "python",
   "name": "python3"
  },
  "language_info": {
   "codemirror_mode": {
    "name": "ipython",
    "version": 3
   },
   "file_extension": ".py",
   "mimetype": "text/x-python",
   "name": "python",
   "nbconvert_exporter": "python",
   "pygments_lexer": "ipython3",
   "version": "3.6.4"
  }
 },
 "nbformat": 4,
 "nbformat_minor": 2
}
