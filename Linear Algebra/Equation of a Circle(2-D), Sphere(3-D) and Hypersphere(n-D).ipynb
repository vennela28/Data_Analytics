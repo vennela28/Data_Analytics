{
 "cells": [
  {
   "cell_type": "markdown",
   "metadata": {},
   "source": [
    "<h3> Circle (2-D) </h3>"
   ]
  },
  {
   "cell_type": "markdown",
   "metadata": {},
   "source": [
    "Center of the circle is origin (0, 0), <b>Equation of <u>Circle</u> : x² + y² = r²</b>\n",
    "\n",
    "Center of the circle is at point (h, k), Equation of a Circle : (x-h)² + (y-k)² = r²"
   ]
  },
  {
   "cell_type": "markdown",
   "metadata": {},
   "source": [
    "<h3> Sphere (3-D) </h3>"
   ]
  },
  {
   "cell_type": "markdown",
   "metadata": {},
   "source": [
    "Center of the sphere is origin (0, 0, 0), <b>Equation of <u>Sphere</u>: x1² + x2² + x3²= r²</b>"
   ]
  },
  {
   "cell_type": "markdown",
   "metadata": {},
   "source": [
    "<h3>Hypersphere (n-D)</h3>"
   ]
  },
  {
   "cell_type": "markdown",
   "metadata": {},
   "source": [
    "Axis is x1, x2, x3, ..., xN, <b> Equation of <u>Hypersphere</u>: x1² + x2² + x3² + ...+ xN² = r²</b>\n",
    "\n",
    "Concisely, the equation is <b> ∑xᵢ² = r² </b> ( for all i = 1 to N)"
   ]
  },
  {
   "cell_type": "markdown",
   "metadata": {},
   "source": [
    "<h5> Determine where does the point P lie </h5>\n",
    "\n",
    "Given any point P(x1, x2). A circle separates 2-D space into 2 parts:\n",
    "- Inside the circle :     <b>x1² + x2² < r² </b> - P lies inside the circle\n",
    "- Outside the circle :    <b> x1² + x2² > r² </b>- P lies outside the circle\n",
    "- On the circle :      <b> x1² + x2² = r² </b>- P lies on the circle"
   ]
  },
  {
   "cell_type": "markdown",
   "metadata": {},
   "source": [
    "<h5> The above conditions are similar for Spheres and Hyperspheres too. </h5>"
   ]
  }
 ],
 "metadata": {
  "kernelspec": {
   "display_name": "Python 3",
   "language": "python",
   "name": "python3"
  },
  "language_info": {
   "codemirror_mode": {
    "name": "ipython",
    "version": 3
   },
   "file_extension": ".py",
   "mimetype": "text/x-python",
   "name": "python",
   "nbconvert_exporter": "python",
   "pygments_lexer": "ipython3",
   "version": "3.6.4"
  }
 },
 "nbformat": 4,
 "nbformat_minor": 2
}
