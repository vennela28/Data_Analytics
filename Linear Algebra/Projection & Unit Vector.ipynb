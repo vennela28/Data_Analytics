{
 "cells": [
  {
   "cell_type": "markdown",
   "metadata": {},
   "source": [
    "<h4> Projection </h4>"
   ]
  },
  {
   "cell_type": "markdown",
   "metadata": {},
   "source": [
    "Let's assume a vector a, vector b and angle θ between 2 vectors. \n",
    "\n",
    "The projection of a vector a on vector b is making vector a perpendicularly fall on vector b.\n",
    "\n",
    "The distance d from the origin is called PROJECTION of vector a onto vector b.\n",
    "\n",
    "Projection of a on b = d = ||a|| cos θ.\n",
    "\n",
    "a.b = ||a|| ||b|| cosθ\n",
    "\n",
    "d = a.b / ||b|| = ||a|| cosθ"
   ]
  },
  {
   "cell_type": "markdown",
   "metadata": {},
   "source": [
    "<h4> Unit Vector </h4>"
   ]
  },
  {
   "cell_type": "markdown",
   "metadata": {},
   "source": [
    "â = a / ||a||   ---> Unit vector is a vector in the same direction as the original vector.\n",
    "\n",
    "||â|| = 1 - Length of unit vector = 1"
   ]
  }
 ],
 "metadata": {
  "kernelspec": {
   "display_name": "Python 3",
   "language": "python",
   "name": "python3"
  },
  "language_info": {
   "codemirror_mode": {
    "name": "ipython",
    "version": 3
   },
   "file_extension": ".py",
   "mimetype": "text/x-python",
   "name": "python",
   "nbconvert_exporter": "python",
   "pygments_lexer": "ipython3",
   "version": "3.6.4"
  }
 },
 "nbformat": 4,
 "nbformat_minor": 2
}
