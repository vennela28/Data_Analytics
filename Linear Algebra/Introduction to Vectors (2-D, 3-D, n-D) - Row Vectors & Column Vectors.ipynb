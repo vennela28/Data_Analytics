{
 "cells": [
  {
   "cell_type": "markdown",
   "metadata": {},
   "source": [
    "<h3> Linear Algebra </h3>"
   ]
  },
  {
   "cell_type": "markdown",
   "metadata": {},
   "source": [
    "- Linear Algebra is a mathematical tool that helps us take understandings and learnings and intuition from 2D, 3D to higher dimensional spaces.\n",
    "- Lines and planes are connected through mathematics."
   ]
  },
  {
   "cell_type": "markdown",
   "metadata": {},
   "source": [
    "<h3> Introduction to Vectors </h3>"
   ]
  },
  {
   "cell_type": "markdown",
   "metadata": {},
   "source": [
    "- Point / Vector\n",
    "- x-y axis is known as x1 - x2 axis for simplicity."
   ]
  },
  {
   "cell_type": "markdown",
   "metadata": {},
   "source": [
    "<h5>2 Dimensional Vector with components 2 and 3</h5>\n",
    "- Represent a point using a vector p = [2, 3] of size 2.  \n",
    "- 2 is x1 component, 3 is x2 component. "
   ]
  },
  {
   "cell_type": "markdown",
   "metadata": {},
   "source": [
    "<h5>3 Dimensional Vector with components 2,3 and 5</h5>\n",
    "- Represent a point using a vector q = [2, 3, 5] of size 3.\n",
    "- 2 is x1 component, 3 is x2 component, 5 is x3 component."
   ]
  },
  {
   "cell_type": "markdown",
   "metadata": {},
   "source": [
    "<h5>n Dimensional Vector</h5>\n",
    "- can be represented a point in n-Dimensional space by using n components."
   ]
  },
  {
   "cell_type": "markdown",
   "metadata": {},
   "source": [
    "<h5> What is the distance of a point from the origin? </h5>\n",
    "- 2D space : sqauare-root(a^2 + b^2)  - Pythagoras Theorem\n",
    "- 3D space : square-root(a^2 + b^2 + c^2) - Pythagoras Theorem\n",
    "- Extend to n Dimensional space\n",
    "- nD space : square-root(a1^2 + a2^2 + a3^2 + ... + an^2) - Pythagoras Theorem if point P = [a1, a2, ... an]"
   ]
  },
  {
   "cell_type": "markdown",
   "metadata": {},
   "source": [
    "<h5> What is the distance between 2 points in 2D space? </h5>\n",
    "- Points are P(x1, y1) and Q(x2, y2)\n",
    "- Distance is square-root { (x2 - x1)^2 + (y2-y1)^2 }"
   ]
  },
  {
   "cell_type": "markdown",
   "metadata": {},
   "source": [
    "<h5> What is the distance between 2 points in 3D space?</h5>\n",
    "- Points are P(x1, y1, z1) and Q(x2, y2, z2\n",
    "- Distance is square-root { (x2 - x1)^2 + (y2-y1)^2 + (z2-z1)^2 }"
   ]
  },
  {
   "cell_type": "markdown",
   "metadata": {},
   "source": [
    "<h5> What is the distance between 2 points in nD space?</h5>\n",
    "- Points are P(a1, b1, ..., z1) and Q(a2, b2, ..., z2)\n",
    "- Distance is square-root { (a2 - a1)^2 + (b2-b1)^2 + ... + (z2-z1)^2 }"
   ]
  },
  {
   "cell_type": "markdown",
   "metadata": {},
   "source": [
    "<h3> Row Vector </h3>"
   ]
  },
  {
   "cell_type": "markdown",
   "metadata": {},
   "source": [
    "- A vector has only 1 row.\n",
    "- A = [a1, a2, a3, ..., an] subscript(1XN) - meaning a vector has 1 row and N columns."
   ]
  },
  {
   "cell_type": "markdown",
   "metadata": {},
   "source": [
    "<h3> Column Vector </h3>"
   ]
  },
  {
   "cell_type": "markdown",
   "metadata": {},
   "source": [
    "- A vector has only 1 column.\n",
    "- A = [a1\n",
    "      a2\n",
    "      a3\n",
    "       .\n",
    "       .\n",
    "       .\n",
    "       an] subscript(N X 1) - meaning a vector has 1 column and N rows."
   ]
  },
  {
   "cell_type": "markdown",
   "metadata": {},
   "source": [
    "<h3>Matrix </h3>"
   ]
  },
  {
   "cell_type": "markdown",
   "metadata": {},
   "source": [
    "- A subscript(m X n) - Matrix A has m rows and n columns.\n",
    "- Matrices can be considered as an array of arrays."
   ]
  }
 ],
 "metadata": {
  "kernelspec": {
   "display_name": "Python 3",
   "language": "python",
   "name": "python3"
  },
  "language_info": {
   "codemirror_mode": {
    "name": "ipython",
    "version": 3
   },
   "file_extension": ".py",
   "mimetype": "text/x-python",
   "name": "python",
   "nbconvert_exporter": "python",
   "pygments_lexer": "ipython3",
   "version": "3.6.4"
  }
 },
 "nbformat": 4,
 "nbformat_minor": 2
}
