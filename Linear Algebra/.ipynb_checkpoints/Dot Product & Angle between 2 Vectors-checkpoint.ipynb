{
 "cells": [
  {
   "cell_type": "markdown",
   "metadata": {},
   "source": [
    "<h4> When we say A is a vector by default it is a column vector.</h4>"
   ]
  },
  {
   "cell_type": "markdown",
   "metadata": {},
   "source": [
    "a = [a1, a2, a3, ..., aN]\n",
    "\n",
    "b = [b1, b2, b3, ..., bN]"
   ]
  },
  {
   "cell_type": "markdown",
   "metadata": {},
   "source": [
    "<h4> Addition of 2 vectors </h4>"
   ]
  },
  {
   "cell_type": "markdown",
   "metadata": {},
   "source": [
    "c = a + b = [a1 + b1, a2 + b2, a3 + b3, ..., aN + bN]"
   ]
  },
  {
   "cell_type": "markdown",
   "metadata": {},
   "source": [
    "<h4> Multiplication of 2 vectors </h4>"
   ]
  },
  {
   "cell_type": "markdown",
   "metadata": {},
   "source": [
    "- Dot Product"
   ]
  },
  {
   "cell_type": "markdown",
   "metadata": {},
   "source": [
    "a.b = a1.b1 + a2.b2 + a3.b3 + ...+ aN.bN\n",
    "\n",
    "a.b = a(transpose)b"
   ]
  },
  {
   "cell_type": "markdown",
   "metadata": {},
   "source": [
    "- Cross Product"
   ]
  },
  {
   "cell_type": "markdown",
   "metadata": {},
   "source": [
    "We don't use Cross product in ML much."
   ]
  },
  {
   "cell_type": "markdown",
   "metadata": {},
   "source": [
    "<h5> Geometrically a.b means </h5>"
   ]
  },
  {
   "cell_type": "markdown",
   "metadata": {},
   "source": [
    "2D space having 2 vectors a(a1, a2) and b(b1, b2)\n",
    "\n",
    "a.b = ||a|| ||b|| cos θ    ---> ||a|| - length of a, ||b|| - length of b   ---> distance of point a from the origin √a1^2 + a2^2 ---> ||a|| = length of a\n",
    "\n",
    "a.b = a1.b1 + a2.b2 = ||a|| ||b|| cos θ\n",
    "\n",
    "θ = cos^-1{(a1.b1 + a2.b2) / ||a|| ||b||}\n",
    "\n",
    "cos 90° = 0\n",
    "\n",
    "If a.b = 0, then vectors a and b are perpendicular to each other. (In any dimensional space)\n",
    "\n",
    "a.a = a1.a1 + a2.a2 + ... + an.an = a1^2 + a2^2 + ... + an^2 = ||a||^2 ---> distance of point a from origin (In any dimensional space)"
   ]
  }
 ],
 "metadata": {
  "kernelspec": {
   "display_name": "Python 3",
   "language": "python",
   "name": "python3"
  },
  "language_info": {
   "codemirror_mode": {
    "name": "ipython",
    "version": 3
   },
   "file_extension": ".py",
   "mimetype": "text/x-python",
   "name": "python",
   "nbconvert_exporter": "python",
   "pygments_lexer": "ipython3",
   "version": "3.6.4"
  }
 },
 "nbformat": 4,
 "nbformat_minor": 2
}
