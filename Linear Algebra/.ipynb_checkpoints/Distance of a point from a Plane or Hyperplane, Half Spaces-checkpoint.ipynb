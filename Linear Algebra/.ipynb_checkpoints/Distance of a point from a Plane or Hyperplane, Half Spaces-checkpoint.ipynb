{
 "cells": [
  {
   "cell_type": "markdown",
   "metadata": {},
   "source": [
    "<h3>Half Spaces</h3>"
   ]
  },
  {
   "cell_type": "markdown",
   "metadata": {},
   "source": [
    "The equation of the Plane passing through origin (0, 0) is  wᵀx = 0,  w is a vector perpendicular to this plane. \n",
    "\n",
    "Let us have a point P(P1, P2, P3, ..., PN) at distance d from the plane. \n",
    "\n",
    "The distance of this point from this plane - shortest distance - draw a perpendicular line from the point to this plane\n",
    "\n",
    "d = wᵀP / ||w||     ---> Point P is in the same direction as w. If w is a unit vector ||w|| = 1, Since w and p are in the same side of your plane, this is known as they are on one side of a plane.\n",
    "\n",
    "Let us assume there is a point P'(P'1, P'2, P'3, ..., P'N) on the other side of the plane at distance d'.\n",
    "\n",
    "A plane in 3-D space separates the whole region into 2 regions - one region above the plane, one region below the plane. These are called half spaces.\n",
    "\n",
    "Line separates 2-D co-ordinate system in 2 Half Spaces. \n",
    "\n",
    "Plane separates 3-D co-ordinate system in 2 Half Spaces.\n",
    "\n",
    "Hyperplane creates Half Spaces in n-D co-ordinate system.\n",
    "\n",
    "Plane П passing through origin (0, 0) having a vector w which is perpendicular. Let us have a point P on one Half Space and another point P' on the other Half Space. \n",
    "\n",
    "The distance d = w.P / ||w|| and distance d' = w.P' / ||w||; w.P = ||w|| ||P|| cos θ (w,P)\n",
    "\n",
    "Since the angle between w and P is less than 90°, w and P are pointing into the same Half Space, so w.P is +ve.\n",
    "\n",
    "Since the angle between w and P' is greater than 90°, w and P' are pointing into the other Half Space, so w.P' is -ve."
   ]
  }
 ],
 "metadata": {
  "kernelspec": {
   "display_name": "Python 3",
   "language": "python",
   "name": "python3"
  },
  "language_info": {
   "codemirror_mode": {
    "name": "ipython",
    "version": 3
   },
   "file_extension": ".py",
   "mimetype": "text/x-python",
   "name": "python",
   "nbconvert_exporter": "python",
   "pygments_lexer": "ipython3",
   "version": "3.6.4"
  }
 },
 "nbformat": 4,
 "nbformat_minor": 2
}
