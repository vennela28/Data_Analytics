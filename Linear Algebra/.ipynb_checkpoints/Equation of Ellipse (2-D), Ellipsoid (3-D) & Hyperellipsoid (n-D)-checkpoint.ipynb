{
 "cells": [
  {
   "cell_type": "markdown",
   "metadata": {},
   "source": [
    "<h3> Ellipse (2-D) </h3>"
   ]
  },
  {
   "cell_type": "markdown",
   "metadata": {},
   "source": [
    "Center of the ellipse is origin (0, 0)\n",
    "\n",
    "minor axis: b\n",
    "    \n",
    "major axis: a\n",
    "    \n",
    "<b>Equation of <u>ellipse</u>: x² / a² + y² / b² = 1</b>"
   ]
  },
  {
   "cell_type": "markdown",
   "metadata": {},
   "source": [
    "<h3> Ellipsoid (3-D) </h3>"
   ]
  },
  {
   "cell_type": "markdown",
   "metadata": {},
   "source": [
    "Center of the ellipsoid is origin (0, 0, 0)\n",
    "\n",
    "semi axis lengths: a, b, c\n",
    "    \n",
    "<b>Equation of <u>ellipsoid</u>: x² / a² + y² / b² + z² / c² = 1</b>"
   ]
  },
  {
   "cell_type": "markdown",
   "metadata": {},
   "source": [
    "<h3> Hyperellipsoid (n-D) </h3>"
   ]
  },
  {
   "cell_type": "markdown",
   "metadata": {},
   "source": [
    "Center of hyperellipsoid is origin (0, 0, ..., 0)\n",
    "\n",
    "<b>Equation of <u>hyperellipsoid</u>: x1² / a1² + x2² / a2² + ... + xN² / aN² = 1</b>"
   ]
  },
  {
   "cell_type": "markdown",
   "metadata": {},
   "source": [
    "<h5> Determine where does the point P lie </h5>\n",
    "\n",
    "Given any point P(x1, x2). An ellipse separates 2-D space into 2 parts:\n",
    "    \n",
    "- Inside the ellipse :     <b>x1² / a² + x2² / b² < r² </b>\n",
    "- Outside the ellipse :    <b> x1² / a² + x2² / b² > r² </b>\n",
    "- On the ellipse :      <b> x1² / a² + x2² / b² = r² </b>"
   ]
  },
  {
   "cell_type": "markdown",
   "metadata": {},
   "source": [
    "<h5> The above conditions are similar for Ellipsoid and Hyperellipsoid too. </h5>"
   ]
  }
 ],
 "metadata": {
  "kernelspec": {
   "display_name": "Python 3",
   "language": "python",
   "name": "python3"
  },
  "language_info": {
   "codemirror_mode": {
    "name": "ipython",
    "version": 3
   },
   "file_extension": ".py",
   "mimetype": "text/x-python",
   "name": "python",
   "nbconvert_exporter": "python",
   "pygments_lexer": "ipython3",
   "version": "3.6.4"
  }
 },
 "nbformat": 4,
 "nbformat_minor": 2
}
