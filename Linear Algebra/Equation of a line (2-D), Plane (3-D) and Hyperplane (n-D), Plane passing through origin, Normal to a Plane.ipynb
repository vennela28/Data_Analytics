{
 "cells": [
  {
   "cell_type": "markdown",
   "metadata": {},
   "source": [
    "<h3> Line (2-D)</h3>"
   ]
  },
  {
   "cell_type": "markdown",
   "metadata": {},
   "source": [
    "Equation of a Line in 2-D space : y = mx + c      ---> m is the slope of the line, c is the y-intercept\n",
    "\n",
    "General Equation of a line in 2-D space : ax + by + c = 0\n",
    "    \n",
    "    y = -c/b - (a/b)x;     ---> (-a/b) = m - slope of a line\n",
    "    \n",
    "Generalized equation of a line in 2-D space : w1.x1 + w2.x2 + w0 = 0\n",
    "\n",
    "                                               x2 = -w0/w2 -(w1/w2).x1\n",
    "                                               \n",
    "                                               c = -w0/w2\n",
    "                                               \n",
    "                                               If c = 0, then w0 = 0\n",
    "                                               \n",
    "                                               \n",
    "In 2-D if a line is passing through origin (0, 0), then c = 0\n",
    "\n",
    "2-D : w1.x1 + w2.x2 = 0               ---> Line\n",
    "\n",
    "3-D : w1.x1 + w2.x2 + w3.x3 = 0       ---> Plane\n",
    "\n",
    "n-D : w1.x1 + w2.x2 +... + wN.xN = 0  ---> Hyperplane"
   ]
  },
  {
   "cell_type": "markdown",
   "metadata": {},
   "source": [
    "<h3> Plane (3-D)</h3>"
   ]
  },
  {
   "cell_type": "markdown",
   "metadata": {},
   "source": [
    "The equivalent idea of a line in 3-D is a plane.\n",
    "\n",
    "Equation of a Plane in 3-D space : ax + by + cz + d = 0\n",
    "\n",
    "Generalized equation of a plane in 3-D space : w1.x1 + w2.x2 + w3.x3 + w0 = 0\n",
    "\n",
    "<b>Concise form </b> : wᵀx = 0, if the Plane passes through origin\n",
    "\n",
    "              w0 + wᵀx = 0, if the Plane does not pass through origin"
   ]
  },
  {
   "cell_type": "markdown",
   "metadata": {},
   "source": [
    "<h3> Hyperplane (n-D) </h3>"
   ]
  },
  {
   "cell_type": "markdown",
   "metadata": {},
   "source": [
    "Generalized form of a Line in 2-D space and Plane in 3-D space is called a Hyperplane in n-D space.\n",
    "\n",
    "Generalized equation of a Hyperplane in n-D space : w0 + w1.x1 + w2.x2 + w3.x3 + ... + wN.xN = 0\n",
    "\n",
    "Concise form of a Hyperplane in n-D space : w0 + ∑wᵢxᵢ (i= 1 to n) = 0   ---> <b>Summation Notation</b>\n",
    "\n",
    "<b>Vector Notation</b> ---> w0 + [w1, w2,..., wN] [ x1\n",
    "\n",
    "                                   x2\n",
    "                                            \n",
    "                                   x3     = 0\n",
    "                                   \n",
    "                                   .\n",
    "                                         \n",
    "                                   .\n",
    "                                            \n",
    "                                   xN] "
   ]
  },
  {
   "cell_type": "markdown",
   "metadata": {},
   "source": [
    "If we are given vector w as a column matrix, x is another column matrix, then the equation of the Hyperplane is w0 + wᵀx = 0"
   ]
  },
  {
   "cell_type": "markdown",
   "metadata": {},
   "source": [
    "Plane ПN (N - Dimensional Plane) : wᵀx = 0\n",
    "    \n",
    "If w and x are 2 points in a N-Dimensional space then wᵀx = ||w|| ||x|| cosθ = 0  - for a Plane\n",
    "\n",
    "If the above equation is 0, then θ = 90°, w is perpendicular to x.\n",
    "\n",
    "Plane П passes through origin (0,0). Lets assume there a point x1 on this plane. Vector w is perpendicular to Plane П passing through origin. --->   w.x1 = 0 (valid for any point on the plane ---> for all xᵢ ͼ П )\n",
    "\n",
    "w is unit vector perpendicular to this plane П at origin (0,0).\n",
    "\n",
    "Let us assume that all planes П pass through origin (0,0)."
   ]
  }
 ],
 "metadata": {
  "kernelspec": {
   "display_name": "Python 3",
   "language": "python",
   "name": "python3"
  },
  "language_info": {
   "codemirror_mode": {
    "name": "ipython",
    "version": 3
   },
   "file_extension": ".py",
   "mimetype": "text/x-python",
   "name": "python",
   "nbconvert_exporter": "python",
   "pygments_lexer": "ipython3",
   "version": "3.6.4"
  }
 },
 "nbformat": 4,
 "nbformat_minor": 2
}
