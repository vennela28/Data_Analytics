{
 "cells": [
  {
   "cell_type": "markdown",
   "metadata": {},
   "source": [
    "<h3>Rectangle</h3>"
   ]
  },
  {
   "cell_type": "markdown",
   "metadata": {},
   "source": [
    "- Sides of a rectangle are parallel to x1-x2 axis - <b> axis parallel rectangle </b>\n",
    "\n",
    "Let points on x1-axis as length of rectangle are 2 and 5 & points on x2-axis as breadth of rectangle are 3 and 4.\n",
    "\n",
    "The is a point P(p1, p2)\n",
    "\n",
    "if (p1 < 5) && (p1 > 2)  and if (p2 > 3) && (p2 < 4), then point P lies inside the rectangle. "
   ]
  }
 ],
 "metadata": {
  "kernelspec": {
   "display_name": "Python 3",
   "language": "python",
   "name": "python3"
  },
  "language_info": {
   "codemirror_mode": {
    "name": "ipython",
    "version": 3
   },
   "file_extension": ".py",
   "mimetype": "text/x-python",
   "name": "python",
   "nbconvert_exporter": "python",
   "pygments_lexer": "ipython3",
   "version": "3.6.4"
  }
 },
 "nbformat": 4,
 "nbformat_minor": 2
}
