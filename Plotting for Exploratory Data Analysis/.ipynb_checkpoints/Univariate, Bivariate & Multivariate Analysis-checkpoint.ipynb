{
 "cells": [
  {
   "cell_type": "markdown",
   "metadata": {},
   "source": [
    "- Never forget your objective while performing Explorative Data Analysis (EDA)."
   ]
  },
  {
   "cell_type": "markdown",
   "metadata": {},
   "source": [
    "<h3> Univariate, Bivariate & Multivariate Analysis </h3>"
   ]
  },
  {
   "cell_type": "markdown",
   "metadata": {},
   "source": [
    "- UNIVARIATE ANALYSIS - Plotted Histograms, PDF, CDF, box-plots with whiskers and Violin plots - taking only one variable (petal_length in this case) and analyzing it. \n",
    "- BIVARIATE ANALYSIS - pair plots, scatter plots - taking 2 variables at a time \n",
    "- MULTIVARIATE ANALYSIS - 3D scatter plot - taking more than 2 variables at a time.\n",
    "- Machine Learning is a glorified Multivariate Analysis."
   ]
  }
 ],
 "metadata": {
  "kernelspec": {
   "display_name": "Python 3",
   "language": "python",
   "name": "python3"
  },
  "language_info": {
   "codemirror_mode": {
    "name": "ipython",
    "version": 3
   },
   "file_extension": ".py",
   "mimetype": "text/x-python",
   "name": "python",
   "nbconvert_exporter": "python",
   "pygments_lexer": "ipython3",
   "version": "3.6.4"
  }
 },
 "nbformat": 4,
 "nbformat_minor": 2
}
