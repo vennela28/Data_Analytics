{
 "cells": [
  {
   "cell_type": "markdown",
   "metadata": {},
   "source": [
    "# Mean, Variance & Standard Deviation"
   ]
  },
  {
   "cell_type": "code",
   "execution_count": 1,
   "metadata": {},
   "outputs": [],
   "source": [
    "import pandas as pd\n",
    "import seaborn as sns\n",
    "import matplotlib.pyplot as plt\n",
    "import numpy as np\n",
    "\n",
    "# Load iris.csv into pandas DataFrame\n",
    "iris = pd.read_csv(\"iris.csv\")"
   ]
  },
  {
   "cell_type": "code",
   "execution_count": 9,
   "metadata": {},
   "outputs": [
    {
     "data": {
      "image/png": "[encoded data removed]",
      "text/plain": [
       "<matplotlib.figure.Figure at 0x27b95eacc88>"
      ]
     },
     "metadata": {},
     "output_type": "display_data"
    }
   ],
   "source": [
    "iris_setosa = iris.loc[iris[\"species\"] == \"setosa\"]\n",
    "iris_versicolor = iris.loc[iris[\"species\"] == \"versicolor\"]\n",
    "iris_virginica = iris.loc[iris[\"species\"] == \"virginica\"]\n",
    "\n",
    "plt.plot(iris_setosa[\"petal_length\"], np.zeros_like(iris_setosa['petal_length']))\n",
    "plt.plot(iris_versicolor[\"petal_length\"], np.zeros_like(iris_versicolor['petal_length']))\n",
    "plt.plot(iris_virginica[\"petal_length\"], np.zeros_like(iris_virginica['petal_length']))\n",
    "\n",
    "plt.show()"
   ]
  },
  {
   "cell_type": "code",
   "execution_count": 20,
   "metadata": {},
   "outputs": [
    {
     "name": "stdout",
     "output_type": "stream",
     "text": [
      "Mean: \n",
      "Setosa:  1.464\n",
      "Versicolor:  4.26\n",
      "Virginica:  5.552\n",
      "\n",
      "Setosa - with an outlier:  2.4156862745098038\n",
      "\n",
      "Standard Deviation: \n",
      "Setosa:  0.17176728442867115\n",
      "Versicolor:  0.4651881339845204\n",
      "Virginica:  0.5463478745268441\n"
     ]
    }
   ],
   "source": [
    "# Mean - central tendency - average petal_length of the species\n",
    "print(\"Mean: \")\n",
    "print(\"Setosa: \",np.mean(iris_setosa[\"petal_length\"]))\n",
    "print(\"Versicolor: \",np.mean(iris_versicolor[\"petal_length\"]))\n",
    "print(\"Virginica: \",np.mean(iris_virginica[\"petal_length\"]))\n",
    "\n",
    "print()\n",
    "# Mean with an outlier - ERROR - data got corrupted / someone entered a wrong value - this data point is called an outlier\n",
    "print(\"Setosa - with an outlier: \",np.mean(np.append(iris_setosa[\"petal_length\"], 50)))\n",
    "print()\n",
    "\n",
    "# Range for Setosa flowers is much thinner than the range of Versicolor and Virginica.\n",
    "# The width in Histogram / PDF is known as spread.\n",
    "# Measure the spread - Range - how widely spread the distribution is\n",
    "# Spread gives a measure of how far are my points from mean. \n",
    "\n",
    "# Variance is the average value of summation of squares of difference between each point and mean.\n",
    "\n",
    "# Standard Deviation - square root of Variance\n",
    "print(\"Standard Deviation: \")\n",
    "print(\"Setosa: \",np.std(iris_setosa[\"petal_length\"]))            # thinner spread\n",
    "print(\"Versicolor: \",np.std(iris_versicolor[\"petal_length\"]))\n",
    "print(\"Virginica: \",np.std(iris_virginica[\"petal_length\"]))      # maximum spread"
   ]
  },
  {
   "cell_type": "markdown",
   "metadata": {},
   "source": [
    "<h4> Observations </h4>"
   ]
  },
  {
   "cell_type": "markdown",
   "metadata": {},
   "source": [
    "- If standard deviation is small, then the spread is small.\n",
    "- Spread means Standard Deviation mathematically.\n",
    "- A large number of Setosa flowers lie between (1.464 - 0.17) and (1.464 + 0.17).\n",
    "- A large number of Versicolor flowers lie between (4.26 - 0.46) and (4.26 + 0.46).\n",
    "- A large number of Virginica flowers lie between 5 and 6.\n",
    "- If the spread is wide the points are more widely spread. \n",
    "- If the spread is low the points are densely grouped."
   ]
  },
  {
   "cell_type": "markdown",
   "metadata": {},
   "source": [
    "<h4> Disadvantage </h4>"
   ]
  },
  {
   "cell_type": "markdown",
   "metadata": {},
   "source": [
    "- Just one outlier can corrupt the whole mean, variance and standard deviation."
   ]
  }
 ],
 "metadata": {
  "kernelspec": {
   "display_name": "Python 3",
   "language": "python",
   "name": "python3"
  },
  "language_info": {
   "codemirror_mode": {
    "name": "ipython",
    "version": 3
   },
   "file_extension": ".py",
   "mimetype": "text/x-python",
   "name": "python",
   "nbconvert_exporter": "python",
   "pygments_lexer": "ipython3",
   "version": "3.6.4"
  }
 },
 "nbformat": 4,
 "nbformat_minor": 2
}
