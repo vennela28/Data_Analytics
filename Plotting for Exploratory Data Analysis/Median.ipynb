{
 "cells": [
  {
   "cell_type": "code",
   "execution_count": 1,
   "metadata": {},
   "outputs": [],
   "source": [
    "import pandas as pd\n",
    "import seaborn as sns\n",
    "import matplotlib.pyplot as plt\n",
    "import numpy as np\n",
    "\n",
    "# Load iris.csv into pandas DataFrame\n",
    "iris = pd.read_csv(\"iris.csv\")"
   ]
  },
  {
   "cell_type": "code",
   "execution_count": 2,
   "metadata": {},
   "outputs": [
    {
     "data": {
      "text/plain": [
       "[<matplotlib.lines.Line2D at 0x22bf6577358>]"
      ]
     },
     "execution_count": 2,
     "metadata": {},
     "output_type": "execute_result"
    },
    {
     "data": {
      "image/png": "[encoded data removed]",
      "text/plain": [
       "<matplotlib.figure.Figure at 0x22bf627b048>"
      ]
     },
     "metadata": {},
     "output_type": "display_data"
    }
   ],
   "source": [
    "iris_setosa = iris.loc[iris[\"species\"] == \"setosa\"]\n",
    "iris_versicolor = iris.loc[iris[\"species\"] == \"versicolor\"]\n",
    "iris_virginica = iris.loc[iris[\"species\"] == \"virginica\"]\n",
    "\n",
    "plt.plot(iris_setosa[\"petal_length\"], np.zeros_like(iris_setosa['petal_length']))\n",
    "plt.plot(iris_versicolor[\"petal_length\"], np.zeros_like(iris_versicolor['petal_length']))\n",
    "plt.plot(iris_virginica[\"petal_length\"], np.zeros_like(iris_virginica['petal_length']))"
   ]
  },
  {
   "cell_type": "markdown",
   "metadata": {},
   "source": [
    "- Mean, Variance and Standard Deviation can be corrupted very easily if we have some unexpected outliers at extreme points. \n",
    "- For Mean we have Median."
   ]
  },
  {
   "cell_type": "code",
   "execution_count": 5,
   "metadata": {},
   "outputs": [
    {
     "data": {
      "image/png": "[encoded data removed]",
      "text/plain": [
       "<matplotlib.figure.Figure at 0x22bf2c6c048>"
      ]
     },
     "metadata": {},
     "output_type": "display_data"
    }
   ],
   "source": [
    "# Histogram of petal lengths of the 3 species of flowers\n",
    "sns.FacetGrid(iris, hue=\"species\", size = 5)\\\n",
    "    .map(sns.distplot, \"petal_length\") \\\n",
    "    .add_legend()\n",
    "    \n",
    "plt.show();"
   ]
  },
  {
   "cell_type": "code",
   "execution_count": 6,
   "metadata": {},
   "outputs": [
    {
     "name": "stdout",
     "output_type": "stream",
     "text": [
      "Median: \n",
      "Setosa:  1.5\n",
      "Versicolor:  4.35\n",
      "Virginica:  5.55\n",
      "\n",
      "Median with an outlier: \n",
      "Setosa 1.5\n",
      "Versicolor 4.4\n",
      "Virginica 5.6\n"
     ]
    }
   ],
   "source": [
    "print(\"Median: \")\n",
    "print(\"Setosa: \",np.median(iris_setosa[\"petal_length\"]))\n",
    "print(\"Versicolor: \",np.median(iris_versicolor[\"petal_length\"]))\n",
    "print(\"Virginica: \", np.median(iris_virginica[\"petal_length\"]))\n",
    "\n",
    "# MEDIAN - With an outlier\n",
    "print()\n",
    "print(\"Median with an outlier: \")\n",
    "print(\"Setosa\",np.median(np.append(iris_setosa[\"petal_length\"], 50)));\n",
    "print(\"Versicolor\",np.median(np.append(iris_versicolor[\"petal_length\"], 50)));\n",
    "print(\"Virginica\",np.median(np.append(iris_virginica[\"petal_length\"], 50)));"
   ]
  },
  {
   "cell_type": "markdown",
   "metadata": {},
   "source": [
    "<h4> Observations </h4>"
   ]
  },
  {
   "cell_type": "markdown",
   "metadata": {},
   "source": [
    "- Even if we have outliers in the extreme points, the mean value doesn't get disturbed.\n",
    "- Median is very similar to Mean which gives the CENTRAL TENDENCY.\n",
    "- Mean of Setosa with and without an outlier does not get disturbed if we take the Median of the Setosa, Versicolor and Virginica samples."
   ]
  },
  {
   "cell_type": "markdown",
   "metadata": {},
   "source": [
    "<h3> Compute MEDIAN </h3>"
   ]
  },
  {
   "cell_type": "markdown",
   "metadata": {},
   "source": [
    "<h4> Sort the samples and pick the middle value. </h4>"
   ]
  },
  {
   "cell_type": "markdown",
   "metadata": {},
   "source": [
    "<h4> ODD SAMPLES </h4>"
   ]
  },
  {
   "cell_type": "markdown",
   "metadata": {},
   "source": [
    "- We are given 7 samples:    x = {1, 1.2, 1.1, 2.1, 1.8, 1.6, 1.2}\n",
    "- Sort them in increasing order. Hence, x = {1, 1.1, 1.2, 1.2, 1.6, 1.8, 2.1}\n",
    "- If there are odd number of samples n, then the middle value (n+1)/2 is the MEDIAN of the samples. Hence, 1.2 is MEDIAN.   "
   ]
  },
  {
   "cell_type": "markdown",
   "metadata": {},
   "source": [
    "<h4> EVEN SAMPLES </h4>"
   ]
  },
  {
   "cell_type": "markdown",
   "metadata": {},
   "source": [
    "- We are given 8 samples:    x = {1, 1.2, 1.1, 2.1, 1.8, 1.6, 1.2, 1.8}\n",
    "- Sort them in increasing order. Hence, x = {1, 1.1, 1.2, 1.2, 1.6, 1.8, 1.8, 2.1}\n",
    "- If there are even number of samples n, then the MEDIAN is the mean of (n/2)th and ((n/2)+1)th value. Hence, 1.4 is MEDIAN."
   ]
  },
  {
   "cell_type": "markdown",
   "metadata": {},
   "source": [
    "<h4> Why is MEDIAN not being corrupted by an outlier? </h4>"
   ]
  },
  {
   "cell_type": "markdown",
   "metadata": {},
   "source": [
    "- x = {1, 1.2, 1.2, 1.4, 1.6, 1.6, 1.8}. MEDIAN = 1.4\n",
    "- y = {1, 1.2, 1.2, 1.4, 1.6, 1.6, 1.8, 56}, MEDIAN = 1.5\n",
    "- The median for samples x and y are almost the same. "
   ]
  },
  {
   "cell_type": "markdown",
   "metadata": {},
   "source": [
    "- z = {1, 1.2, 1.2, 5, 10, 20, 50}, MEDIAN = 5\n",
    "- If more than 50% of the points are corrupted, the MEDIAN gets corrupted.\n",
    "- For computation of Median, if less than 50% of the points are corrupted, the MEDIAN remains the same unlike MEAN."
   ]
  }
 ],
 "metadata": {
  "kernelspec": {
   "display_name": "Python 3",
   "language": "python",
   "name": "python3"
  },
  "language_info": {
   "codemirror_mode": {
    "name": "ipython",
    "version": 3
   },
   "file_extension": ".py",
   "mimetype": "text/x-python",
   "name": "python",
   "nbconvert_exporter": "python",
   "pygments_lexer": "ipython3",
   "version": "3.6.4"
  }
 },
 "nbformat": 4,
 "nbformat_minor": 2
}
