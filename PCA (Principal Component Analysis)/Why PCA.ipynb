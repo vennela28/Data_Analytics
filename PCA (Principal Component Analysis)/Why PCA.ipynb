{
 "cells": [
  {
   "cell_type": "markdown",
   "metadata": {},
   "source": [
    "Simplest Dimensionality Reduction technique\n",
    " \n",
    "- Principal Component Analysis (PCA)\n",
    "\n",
    "If data points lie in n-D space. \n",
    "\n",
    "xᵢ ∈ Rᵈ    ---> convert the data points into d' dimensions such that d' < d\n",
    "\n",
    "<h5>Applications of PCA</h5>\n",
    "- MNIST - 784-D ---> 2-D (visualize). High dimensional data can be visualized using PCA - <b><i>visualization</i></b>\n",
    "- used in reducing dimensions of the data in Machine Learning."
   ]
  }
 ],
 "metadata": {
  "kernelspec": {
   "display_name": "Python 3",
   "language": "python",
   "name": "python3"
  },
  "language_info": {
   "codemirror_mode": {
    "name": "ipython",
    "version": 3
   },
   "file_extension": ".py",
   "mimetype": "text/x-python",
   "name": "python",
   "nbconvert_exporter": "python",
   "pygments_lexer": "ipython3",
   "version": "3.6.4"
  }
 },
 "nbformat": 4,
 "nbformat_minor": 2
}
