{
 "cells": [
  {
   "cell_type": "markdown",
   "metadata": {},
   "source": [
    "<b><i>Agenda</i></b>\n",
    "\n",
    "- We want to find a direction f₁' = u₁ such that the variance of xᵢ's projected onto f₁' is maximum and drop f₂'. \n",
    "- Need not find the whole line u₁ - find only the direction.\n",
    "- We represent directions using unit vectors. u₁ ~ unit vector. ||u₁|| = 1\n",
    "- u₁ is the direction on which if I project each of the points, the variance will be maximum.\n",
    "- Let us consider a point xᵢ. xᵢ' = projection of xᵢ on u₁.\n",
    "- Let us have a dataset D = {xᵢ}ⁿᵢ₌₁ has n data points\n",
    "- Create a new dataset D' = {xᵢ'}ⁿᵢ₌₁ such that xᵢ' = projection of xᵢ on u₁.\n",
    "- In linear algebra,<b><i> xᵢ' = projection of xᵢ on u₁ = u₁.xᵢ/||u₁||² </i></b> which means <b><i> xᵢ' = u₁ᵀ.xᵢ </i></b>\n",
    "- So each xᵢ' can be converted to u₁ᵀ.xᵢ\n",
    "\n",
    "<b><i>Problem Statement</i></b>\n",
    "- Find u₁ such that the variance{projection of xᵢ on u₁}ⁿᵢ₌₁ is maximum\n",
    "    - variance{u₁ᵀ.xᵢ}ⁿᵢ₌₁ = 1/n Σⁿᵢ₌₁(u₁ᵀ.xᵢ - u₁ᵀ.x̄)²\n",
    "    - u₁ᵀ has 1 row and n columns. xᵢ has n rows and 1 column since xᵢ is a column vector.\n",
    "    - Dot product of u₁ᵀ and xᵢ gives a scalar.\n",
    "    - Dataset X has been column standardized which means x̄ is at [0, 0, 0..., 0]. When x̄ = 0, u₁ᵀ.x̄ becomes 0.\n",
    "    - variance{xᵢ'}ⁿᵢ₌₁ = 1/n Σⁿᵢ₌₁(u₁ᵀ.xᵢ)²\n",
    "\n",
    "<i>Mathematical Problem Statement -<b> maximize variance i.e. maximize 1/n Σⁿᵢ₌₁(u₁ᵀ.xᵢ)²</b></i>\n",
    "\n",
    "<h4>Find u₁ such that 1/n Σⁿᵢ₌₁(u₁ᵀ.xᵢ)² is maximized such that u₁ᵀu₁ = 1 = ||u||²</h4>\n",
    "\n",
    "<h6>We want to maximize the variance{xᵢ'} and we want to find the direction that maximizes the variance. </h6>\n",
    "\n",
    "<i><u>Objective of an optimization problem:</u> maximize 1/n Σⁿᵢ₌₁(u₁ᵀ.xᵢ)² such that <u> constraint:</u> u₁ᵀu₁ = 1 = ||u||² where u₁ is a unit vector.</i>"
   ]
  }
 ],
 "metadata": {
  "kernelspec": {
   "display_name": "Python 3",
   "language": "python",
   "name": "python3"
  },
  "language_info": {
   "codemirror_mode": {
    "name": "ipython",
    "version": 3
   },
   "file_extension": ".py",
   "mimetype": "text/x-python",
   "name": "python",
   "nbconvert_exporter": "python",
   "pygments_lexer": "ipython3",
   "version": "3.6.4"
  }
 },
 "nbformat": 4,
 "nbformat_minor": 2
}
