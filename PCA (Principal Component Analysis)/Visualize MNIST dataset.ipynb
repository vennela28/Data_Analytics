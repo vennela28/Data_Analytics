{
 "cells": [
  {
   "cell_type": "markdown",
   "metadata": {},
   "source": [
    "MNIST dataset is 784-D. We do a dimensionality reduction to 2-D using PCA. Projected 784-D dataset and projected to top 2 Eigen vectors - v₁ on x-axis and v₂ on y-axis.\n",
    "\n",
    "PCA is a weaker dimensionality reduction algorithm. It is not the best algorithm - simplest algorithm. \n",
    "\n",
    "t-SNE algorithm is a better dimensionality reduction technique."
   ]
  }
 ],
 "metadata": {
  "kernelspec": {
   "display_name": "Python 3",
   "language": "python",
   "name": "python3"
  },
  "language_info": {
   "codemirror_mode": {
    "name": "ipython",
    "version": 3
   },
   "file_extension": ".py",
   "mimetype": "text/x-python",
   "name": "python",
   "nbconvert_exporter": "python",
   "pygments_lexer": "ipython3",
   "version": "3.6.4"
  }
 },
 "nbformat": 4,
 "nbformat_minor": 2
}
