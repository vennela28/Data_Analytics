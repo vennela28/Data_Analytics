{
 "cells": [
  {
   "cell_type": "markdown",
   "metadata": {},
   "source": [
    "<h5>2 Optimization Problems:</h5>\n",
    "- distance minimization PCA\n",
    "- variance maximization PCA\n",
    "\n",
    "<h5>Solution to Optimization Problems</h5>\n",
    "- Let us assume X is the data matrix with n points and d features. \n",
    "- X is column standardized - mean of each column is 0 and standard deviation of each column is 1.\n",
    "\n",
    "   \n",
    "     f₁   f₂   .   .  fⱼ  .  .  fₔ     \n",
    "\n",
    "    1\n",
    "\n",
    "    2\n",
    "    .\n",
    "    .    \n",
    "X =\n",
    "\n",
    "    i                         \n",
    "    . \n",
    "    .\n",
    "    n                                 ₙₓₔ\n",
    "\n",
    "Covariance matrix of X = S where S is square and symmetric matrix.\n",
    "\n",
    "Sₔₓₔ = Xᵀₔₓₙ Xₙₓₔ\n",
    "\n",
    "Eigen values of S = λ₁, λ₂, ..., λₔ\n",
    "\n",
    "Eigen vector of S = v₁, v₂, ..., vₔ\n",
    "\n",
    "For every Eigen value there is a corresponding Eigen vector i.e. v₁ corresponds to λ₁, v₂ corresponds to λ₂, ..., vₔ corresponds to λₔ. Let us assume λ₁ >= λ₂ >= λ₃ ...>= λₔ. So, λ₁ is the maximal Eigen value. \n",
    "\n",
    "Eigen values are fundamental concepts in Linear Algebra.\n",
    "\n",
    "<u><i>Definition</i></u> If λ₁ v₁ ₔₓ₁ = Sₔₓₔ v₁ ₔₓ₁; λ₁ - scalar, λ₁ is known as an Eigen value of S, v₁ is correponding Eigen vector to S.\n",
    "\n",
    "If λ₁ >= λ₂ >= λ₃ ...>= λₔ are Eigen values and v₁, v₂, ..., vₔ are Eigen vectors for matrix Sₔₓₔ. \n",
    "\n",
    "Every pair of Eigen vectors are perpendicular to each other (vᵢ ⊥ vⱼ) which means vᵢ.vⱼ = 0 or vᵢᵀvⱼ = 0\n",
    "\n",
    "\n",
    "\n"
   ]
  }
 ],
 "metadata": {
  "kernelspec": {
   "display_name": "Python 3",
   "language": "python",
   "name": "python3"
  },
  "language_info": {
   "codemirror_mode": {
    "name": "ipython",
    "version": 3
   },
   "file_extension": ".py",
   "mimetype": "text/x-python",
   "name": "python",
   "nbconvert_exporter": "python",
   "pygments_lexer": "ipython3",
   "version": "3.6.4"
  }
 },
 "nbformat": 4,
 "nbformat_minor": 2
}
