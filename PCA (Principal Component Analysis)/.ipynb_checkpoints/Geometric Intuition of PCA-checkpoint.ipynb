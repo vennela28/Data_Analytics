{
 "cells": [
  {
   "cell_type": "markdown",
   "metadata": {},
   "source": [
    "<b><i> Geometric Intuition of PCA </i></b>\n",
    "\n",
    "The task of PCS - \n",
    "- Dimensionality reduction - Converting data points given in D-dimensional space into D'-dimensions such that D' < D\n",
    "\n",
    "Let's reduce dimensions from 2-D points to 1-D : apply linear algebraic transformations. \n",
    "\n",
    "Let us take 2 features - f₁ = blackness of hair(x-axis), f₂ = heights (y-axis). Spread on y-axis is more (variance is more). Spread on x-axis is very low (variance is low)\n",
    "\n",
    "Convert 2-D to 1-D : Consider f₂ and skip f₁\n",
    "\n",
    "      f₁   f₂    \n",
    "   \n",
    "    x₁\n",
    "   \n",
    "    x₂\n",
    "    .\n",
    "    .    \n",
    "X =\n",
    "\n",
    "    xᵢ                         \n",
    "    . \n",
    "    .\n",
    "    xₙ         \n",
    "    \n",
    "            \n",
    "       f₂\n",
    "    x₁\n",
    "   \n",
    "    x₂\n",
    "    .\n",
    "    .    \n",
    "X' =\n",
    "\n",
    "    xᵢ                         \n",
    "    . \n",
    "    .\n",
    "    xₙ          \n",
    "    \n",
    "    \n",
    "Preserving the feature with maximal spread/variance. \n",
    "\n",
    "<b><i>Convert 2-D data to 1-D data</i></b> : Preserve the feature that has maximal spread because spread is a measure of information. \n",
    "\n",
    "If X = 2-D dataset and it is column standardized i.e mean{f₁} = mean{f₂} = 0 and variance{f₁} = variance{f₂} = 1, we simply cannot drop f₁ or f₂.\n",
    "- We can move the X-Y axis to X'-Y' axis where the points lie on f₁' and f₂' is perpendicular to f₁' (f₁' ⊥ f₂') spread on f₂' <<< spread on f₁'. (rotated f₁, f₂  by some angle θ - Rotate the axis f₁' is in the direction of maximum variance such that f₁' has maximum spread)\n",
    "- We can drop f₂'. \n",
    "- Project xᵢ on f₁'. "
   ]
  },
  {
   "cell_type": "markdown",
   "metadata": {},
   "source": [
    "<b><i>Agenda</i></b>\n",
    "\n",
    "- We want to find a direction f₁' such that the variance of xᵢ's projected onto f₁' is maximum and  drop f₂'. \n",
    "- rotating axis to find f₁' with maximum variance and  drop f₂'. "
   ]
  }
 ],
 "metadata": {
  "kernelspec": {
   "display_name": "Python 3",
   "language": "python",
   "name": "python3"
  },
  "language_info": {
   "codemirror_mode": {
    "name": "ipython",
    "version": 3
   },
   "file_extension": ".py",
   "mimetype": "text/x-python",
   "name": "python",
   "nbconvert_exporter": "python",
   "pygments_lexer": "ipython3",
   "version": "3.6.4"
  }
 },
 "nbformat": 4,
 "nbformat_minor": 2
}
