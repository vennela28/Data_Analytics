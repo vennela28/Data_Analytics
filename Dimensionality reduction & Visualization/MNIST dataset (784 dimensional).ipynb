{
 "cells": [
  {
   "cell_type": "markdown",
   "metadata": {},
   "source": [
    "MNIST is a computer vision dataset. It consists of 28x28 pixel images of handwritten digits.\n",
    "\n",
    "There are 60k training data points and 10k test data points. We have to build using 60k training data points and test it on 10k test data points. \n",
    "\n",
    "<b><i>D = {xᵢ, yᵢ}⁶⁰ᵏᵢ₌₁, where xᵢ is 28x28 pixel image and yᵢ ∈ {0, 1, 2, 3, 4, 5, 6, 7, 8, 9} classes</i></b>\n",
    "\n",
    "<i><u>Objective</u></i>: Given a new scanned 28x28 pixel image, classify the written character is 0, 1, 2, 3, 4, 5, 6, 7, 8 or 9.\n",
    "\n",
    "We learnt that xᵢ need to be column vectors. How can we convert a 28x28 image into a column vector where xᵢ ∈ ℝᵈ?\n",
    "\n",
    "Each number in the image is represented in 28x28 matrix as numbers from 0-9. Any pixel if it is dark black it is represented as 1's and white points are represented as 0's. If it is slightly grey we will put a value between 0 and 1. \n",
    "\n",
    "<b><i>Convert an image to a numerical/real matrix</i></b> - This matrix is of size 28x28 for 1 data point not the data matrix X. \n",
    "\n",
    "<b><i>Convert a matrix of pixels into vector</i> - FLATTENING</b>\n",
    "\n",
    "Let us imagine there is a 5x5 matrix with values ranging from 1 to 9. FLATTENING - We take each row and transform these values to a longitudinal 25x1 column matrix. We can do row flattening or column flattening. \n",
    "\n",
    "In our dataset, we have 28x28 pixels image. We can convert it into a datapoint by row / column flattening and get a 784x1 column vector for each datapoint.\n",
    "\n",
    "Overall in dataset X, each datapoint is 784 dimensions \n",
    "\n",
    "\n",
    "      f₁   f₂   .   .   .  .  f₇₈₄     \n",
    "\n",
    "    1\n",
    "\n",
    "    2\n",
    "    .\n",
    "    .    \n",
    "X =\n",
    "                         \n",
    "    . \n",
    "    .\n",
    "    ₆₀ₖ                               ₇₈₄ₓ₆₀ₖ \n",
    "    \n",
    "So, the final dataset will be Xₙₓₔ where n = 60k, d = 784 and xᵢᵀ = ℝ⁷⁸⁴.\n",
    "\n",
    "\n",
    "Y are the class labels. yᵢ ∈ {0, 1, 2, 3, 4, 5, 6, 7, 8, 9}\n",
    "\n",
    "    0\n",
    "    1\n",
    "    .\n",
    "    .\n",
    "Y = \n",
    "    \n",
    "    .\n",
    "    .\n",
    "    8\n",
    "    9 ₁₀ₓ₁\n",
    "\n",
    "We will use simple linear algebra to visualize 784-D dataset using t-SNE / PCA techniques. \n",
    "\n",
    "<b><i>Each dot represents a data point. Take 784-D data and transform it into a 2-D dataset using t-SNE algorithm. The color code for each datapoint is the class label.</i></b> "
   ]
  }
 ],
 "metadata": {
  "kernelspec": {
   "display_name": "Python 3",
   "language": "python",
   "name": "python3"
  },
  "language_info": {
   "codemirror_mode": {
    "name": "ipython",
    "version": 3
   },
   "file_extension": ".py",
   "mimetype": "text/x-python",
   "name": "python",
   "nbconvert_exporter": "python",
   "pygments_lexer": "ipython3",
   "version": "3.6.4"
  }
 },
 "nbformat": 4,
 "nbformat_minor": 2
}
