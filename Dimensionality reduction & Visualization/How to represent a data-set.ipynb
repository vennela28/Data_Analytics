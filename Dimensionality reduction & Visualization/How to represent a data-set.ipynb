{
 "cells": [
  {
   "cell_type": "markdown",
   "metadata": {},
   "source": [
    "<h4><i>How to represent a data-set?</i></h4>"
   ]
  },
  {
   "cell_type": "markdown",
   "metadata": {},
   "source": [
    "D = {xᵢ, yᵢ}ⁿᵢ₌₁ ⇒ has n-datapoints, where xᵢ ∈ Rᵈ. Dataset D is a collection of <i>datapoints xᵢ</i> and <i>class labels yᵢ</i>.\n",
    "\n",
    "In iris dataset xᵢ ∈ R⁴ - 4-dimensional column vector having features sepal-length, sepal-width, petal-length, petal-width and yᵢ ∈ {setosa, versicolor, virginica}"
   ]
  }
 ],
 "metadata": {
  "kernelspec": {
   "display_name": "Python 3",
   "language": "python",
   "name": "python3"
  },
  "language_info": {
   "codemirror_mode": {
    "name": "ipython",
    "version": 3
   },
   "file_extension": ".py",
   "mimetype": "text/x-python",
   "name": "python",
   "nbconvert_exporter": "python",
   "pygments_lexer": "ipython3",
   "version": "3.6.4"
  }
 },
 "nbformat": 4,
 "nbformat_minor": 2
}
