{
 "cells": [
  {
   "cell_type": "markdown",
   "metadata": {},
   "source": [
    "In linear algebra, whenever we are given a data point with some features.\n",
    "\n",
    "For example for iris data set we have 4 features / variables = [SL, Sw, PL, Pw] - real values\n",
    "\n",
    "<b><i>Column-vector</i></b>\n",
    "\n",
    "Default vector notation is a column vector. - Given iᵗʰ Data point xᵢ ∈ Rᵈ, we assume that xᵢ is a d-dimensional column vector of real values having d-rows and 1-column.\n",
    "\n",
    "<b><i>Row-vector</i></b>\n",
    "\n",
    "A data point xᵢ which is represented as a single row.\n",
    "\n",
    "For instance, xᵢ = [2.1, 3.2, 4.6, 1.2]₁ ₓ ₄ is a row vector having 1 row and 4 columns."
   ]
  }
 ],
 "metadata": {
  "kernelspec": {
   "display_name": "Python 3",
   "language": "python",
   "name": "python3"
  },
  "language_info": {
   "codemirror_mode": {
    "name": "ipython",
    "version": 3
   },
   "file_extension": ".py",
   "mimetype": "text/x-python",
   "name": "python",
   "nbconvert_exporter": "python",
   "pygments_lexer": "ipython3",
   "version": "3.6.4"
  }
 },
 "nbformat": 4,
 "nbformat_minor": 2
}
