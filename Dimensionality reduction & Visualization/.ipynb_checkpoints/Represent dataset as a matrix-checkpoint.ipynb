{
 "cells": [
  {
   "cell_type": "markdown",
   "metadata": {},
   "source": [
    "<h4>Dataset as a data-matrix</h4>"
   ]
  },
  {
   "cell_type": "markdown",
   "metadata": {},
   "source": [
    "D = {xᵢ, yᵢ}ⁿᵢ₌₁ ⇒ has n-datapoints. \n",
    "\n",
    "Suppose xᵢ ∈ Rᵈ is a n-dimensional matrix having n rows and d columns as features sepal-length, sepal-width, petal-length, petal-width; yᵢ - column vector ∈ {setosa, versicolor, virginica}\n",
    "\n",
    "<b><i>1ˢᵗ way </i></b>\n",
    "- Features can be mentioned as columns of the matrix, datapoints as rows of the matrix. \n",
    "\n",
    "- X = [matrix]ₙₓₔ with n rows and d columns. \n",
    "\n",
    "- iᵗʰ row in the matrix is xᵢᵀ. Representing each datapoint as a row and feature as a column.\n",
    "\n",
    "- xᵢ is a column vector. xᵢᵀ is a row vector.\n",
    "\n",
    "<b><i>2ⁿᵈ way </i></b> - mostly used in research papers.\n",
    "\n",
    "- Features can be mentioned as rows of the matrix, datapoints as columns of the matrix. \n",
    "\n",
    "- X = [matrix]ₔₓₙ with d rows and n columns representing each datapoint as a column and feature as a row.\n",
    " \n",
    "- xᵢ is a column vector.\n",
    "\n",
    "yᵢ is a column vector with n rows and 1 column. Corresponding to xᵢ row, there is a yᵢ."
   ]
  }
 ],
 "metadata": {
  "kernelspec": {
   "display_name": "Python 3",
   "language": "python",
   "name": "python3"
  },
  "language_info": {
   "codemirror_mode": {
    "name": "ipython",
    "version": 3
   },
   "file_extension": ".py",
   "mimetype": "text/x-python",
   "name": "python",
   "nbconvert_exporter": "python",
   "pygments_lexer": "ipython3",
   "version": "3.6.4"
  }
 },
 "nbformat": 4,
 "nbformat_minor": 2
}
