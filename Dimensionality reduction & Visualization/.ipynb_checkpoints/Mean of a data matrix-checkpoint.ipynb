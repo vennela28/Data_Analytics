{
 "cells": [
  {
   "cell_type": "markdown",
   "metadata": {},
   "source": [
    "Let X be a matrix. f₁,...fⱼ,..., fₔ be features. Each row corresponds to a point. iᵗʰ row in the matrix is xᵢᵀ. fⱼ is the jᵗʰ column. \n",
    "\n",
    "Suppose xᵢ ∈ ℝᵈ is a n-dimensional matrix having n rows and d columns as features.\n",
    "\n",
    "\n",
    "      f₁   f₂   .   .  fⱼ  .  .  fₔ     \n",
    "   \n",
    "    x₁\n",
    "   \n",
    "    x₂\n",
    "    .\n",
    "    .    \n",
    "X =\n",
    "\n",
    "    xᵢ                         \n",
    "    . \n",
    "    .\n",
    "    xₙ                                 ₙₓₔ\n",
    "\n",
    "    \n",
    "    f₁  f₂\n",
    "       \n",
    "x₁ = [2.2, 4.2]  - 2-D vector ∈ ℝ²\n",
    "\n",
    "x₂ = [1.2, 3.2]  - 2-D vector ∈ ℝ²\n",
    "\n",
    "x₁ + x₂ = [3.4, 7.4]  - sum of 2 vectors, component-wise sum\n",
    "\n",
    "Lets define x̄ ∈ ℝ², x̄ = 1/n ∑ xᵢⁿᵢ₌₁  (xᵢ is a vector) \n",
    "\n",
    "<b><i>Mean vector</i></b> x̄ = 1/n (x₁ + x₂ + ... + xₙ) where  xᵢ ∈ ℝᵈ \n",
    "\n",
    "<i><u>Geometric Interpretation of a Mean vector</u></i> \n",
    "\n",
    "Let us take a vector, with 2 features f₁(x-axis = heights(h)) and f₂(y-axis = weights(w)). \n",
    "\n",
    "          f₁ f₂\n",
    "xᵢ ∈ ℝ² , xᵢ = [h, w]\n",
    "\n",
    "x̄ = [hx̄, wx̄] where hx̄ = mean(hᵢ)ⁿᵢ₌₁ - central value on x-axis - mean height and wx̄ = mean(wᵢ)ⁿᵢ₌₁ - central value on y-axis - mean weight\n",
    "\n",
    "Geometrically, if we have a bunch of points, mean vector is a sort of central datapoint or central vector. \n",
    "\n",
    "<i><b> Mean is a central value for scalars, Mean vector is a central vector.</b></i>"
   ]
  }
 ],
 "metadata": {
  "kernelspec": {
   "display_name": "Python 3",
   "language": "python",
   "name": "python3"
  },
  "language_info": {
   "codemirror_mode": {
    "name": "ipython",
    "version": 3
   },
   "file_extension": ".py",
   "mimetype": "text/x-python",
   "name": "python",
   "nbconvert_exporter": "python",
   "pygments_lexer": "ipython3",
   "version": "3.6.4"
  }
 },
 "nbformat": 4,
 "nbformat_minor": 2
}
