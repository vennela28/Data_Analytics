{
 "cells": [
  {
   "cell_type": "markdown",
   "metadata": {},
   "source": [
    "<h4> Dimensionality reduction </h4>"
   ]
  },
  {
   "cell_type": "markdown",
   "metadata": {},
   "source": [
    "For 2-D, 3-D datapoints we can use scatter plots for visualization.\n",
    "\n",
    "For 4-D, 5-D, 6-D datapoints we can use pair plots for visualization.\n",
    "\n",
    "Consider if we have 10-D, 100-D, 1000-D, n-D datapoints then we will have ⁿC₂ scatter / pair plots.\n",
    "\n",
    "If a dataset lies in n-Dimensional space, we try to reduce the dimensionality of data in 2-D / 3-D. Use techniques like:\n",
    "- <b><i>Principle Component Analysis (PCA)</i></b>\n",
    "- <b><i>T-distributed Stochastic Neighbourhood Embedding (t-SNE)</i></b>"
   ]
  }
 ],
 "metadata": {
  "kernelspec": {
   "display_name": "Python 3",
   "language": "python",
   "name": "python3"
  },
  "language_info": {
   "codemirror_mode": {
    "name": "ipython",
    "version": 3
   },
   "file_extension": ".py",
   "mimetype": "text/x-python",
   "name": "python",
   "nbconvert_exporter": "python",
   "pygments_lexer": "ipython3",
   "version": "3.6.4"
  }
 },
 "nbformat": 4,
 "nbformat_minor": 2
}
