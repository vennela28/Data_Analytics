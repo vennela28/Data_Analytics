{
 "cells": [
  {
   "cell_type": "markdown",
   "metadata": {},
   "source": [
    "D = {xᵢ, yᵢ}ⁿᵢ₌₁ ⇒ has n-datapoints.\n",
    "\n",
    "Suppose xᵢ ∈ Rᵈ is a n-dimensional matrix having n rows and d columns as features sepal-length, sepal-width, petal-length, petal-width; yᵢ - column vector ∈ {setosa, versicolor, virginica}\n",
    "\n",
    "<b> Below is the dataset given to us. </b>\n",
    "\n",
    " <b> each column = feature</b>\n",
    " \n",
    " <b> xᵢᵀ= datapoint </b>\n",
    " \n",
    " <b> Y = class labels </b>\n",
    " \n",
    "        f₁   f₂   .   .  fⱼ  .  .  fₔ     \n",
    "    x₁\n",
    "    x₂\n",
    "    .\n",
    "    .    \n",
    "X =      \n",
    "\n",
    "    xᵢ                         \n",
    "    . \n",
    "    .\n",
    "    xₙ                                 ₙₓₔ\n",
    "    \n",
    "    \n",
    "    y₁\n",
    "    y₂\n",
    "    .\n",
    "    .\n",
    "Y =\n",
    "    \n",
    "    yᵢ\n",
    "    .\n",
    "    .\n",
    "    yₙ  ₙₓ₁"
   ]
  },
  {
   "cell_type": "markdown",
   "metadata": {},
   "source": [
    "<h5>Data pre-processing</h5>\n",
    "\n",
    "Some kind of mathematical operations & transformations that we need to do on data before building models - doing some complex data transformations.\n",
    "\n",
    "<b><i>obtain data -> pre-processing operations -> data modeling</i></b>"
   ]
  },
  {
   "cell_type": "markdown",
   "metadata": {},
   "source": [
    "<h5>Different data pre-processing operations</h5>\n",
    "- column normalization\n",
    "\n",
    "<h5> Data modeling </h5>\n",
    "- dimensionality reduction\n"
   ]
  },
  {
   "cell_type": "markdown",
   "metadata": {},
   "source": [
    "<h5>Column normalization </h5>\n",
    "- Having d features as columns.\n",
    "- n datapoints\n",
    "Take each column - corresponds to a feature [sepal length, sepal width, petal length, petal width].\n",
    "\n",
    "Take column - n-values corresponding to the feature fⱼ = {a₁, a₂, ..., aᵢ, ... ,aₙ}. Take each column at a time and tansform it. - Process each d feature in X separately. \n",
    "\n",
    "Let us take,\n",
    "\n",
    "max(aᵢ) = aₘₐₓ >= aᵢ (i: 1 -> n)\n",
    "\n",
    "min(aᵢ) = aₘᵢₙ <= aᵢ (i: 1 -> n)\n",
    "\n",
    "Transform all points in this column as: aᵢ' = {a₁', a₂', ..., aᵢ', ... ,aₙ'}. From the original create a new data vector \n",
    "\n",
    "<b>aᵢ' = (aᵢ - aₘᵢₙ)/(aₘₐₓ - aₘᵢₙ)</b>, by doing this tranformation aᵢ' will lie between 0 and 1, i.e. aᵢ' ∈ [0,1]\n",
    "\n",
    "<u><i>What?</i></u>{a₁, a₂, ..., aᵢ, ... ,aₙ} where aᵢ ∈ R, using column normalization the values are transformed as {a₁', a₂', ..., aᵢ', ... ,aₙ'} where aᵢ' ∈ [0,1]\n",
    "\n",
    "<u><i>Why?</i></u> Suppose we collect heights and weights as 2 features. In which scale am I collecting the heights? heights, h- in cms, weight, w - in kgs. Real world variables have many ways of collecting data such as heights in ft., weights in pounds. \n",
    "\n",
    "<u><i>How?</i></u> Through column normalization, we are creating a feature h' and w'such that all the values lie between [0, 1] making the quantities scale independent. By doing column normalization, we are getting both the features into one standard format where all values lie between 0 and 1.\n",
    "\n",
    "<b><i>Advantages of column normalization</i></b>\n",
    "- getting rid of scale and putting all features in the same scale.\n",
    "\n",
    "<u><i>Geometric Intuition</i></u>\n",
    "- As heights increase, weights also increase.\n",
    "- By doing column normalization, we are transforming heights as h' and weights as w' and values lie between 0 and 1 - making a bounding box (unit square).\n",
    "\n",
    "<b><i>Summary</i></b>\n",
    "- We take data anywhere from n-dimensional space, column normalization will take the data and put the data in unit hypercube in the n-dimensional space - compressing all data in a unit cube. We are getting rid of scales (cm, m, ft, kgs, pounds)."
   ]
  }
 ],
 "metadata": {
  "kernelspec": {
   "display_name": "Python 3",
   "language": "python",
   "name": "python3"
  },
  "language_info": {
   "codemirror_mode": {
    "name": "ipython",
    "version": 3
   },
   "file_extension": ".py",
   "mimetype": "text/x-python",
   "name": "python",
   "nbconvert_exporter": "python",
   "pygments_lexer": "ipython3",
   "version": "3.6.4"
  }
 },
 "nbformat": 4,
 "nbformat_minor": 2
}
